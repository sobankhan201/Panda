{
 "cells": [
  {
   "cell_type": "markdown",
   "id": "785c4641-81c0-4670-b930-4387e1c3d106",
   "metadata": {},
   "source": [
    "# Creating a Series\n"
   ]
  },
  {
   "cell_type": "code",
   "execution_count": 1,
   "id": "055806dc-c2a5-46aa-9ae1-f8e1122a9b27",
   "metadata": {},
   "outputs": [
    {
     "name": "stdout",
     "output_type": "stream",
     "text": [
      "0    100\n",
      "1    200\n",
      "2    300\n",
      "3    400\n",
      "dtype: int64\n"
     ]
    }
   ],
   "source": [
    "import pandas as pd\n",
    "s = pd.Series([100, 200, 300, 400])\n",
    "print(s)"
   ]
  },
  {
   "cell_type": "code",
   "execution_count": 1,
   "id": "dc4009e8-6dfc-4be0-ac51-3b7b0c0fe117",
   "metadata": {},
   "outputs": [
    {
     "name": "stdout",
     "output_type": "stream",
     "text": [
      "a    10\n",
      "b    20\n",
      "c    30\n",
      "d    40\n",
      "dtype: int64\n"
     ]
    }
   ],
   "source": [
    "import pandas as pd\n",
    "s = pd.Series([10, 20, 30, 40], index=['a', 'b', 'c', 'd'])\n",
    "print(s)\n"
   ]
  },
  {
   "cell_type": "code",
   "execution_count": 2,
   "id": "7c5f1592-2c19-45fc-9f88-03d35bb8f689",
   "metadata": {},
   "outputs": [
    {
     "name": "stdout",
     "output_type": "stream",
     "text": [
      "item1    101\n",
      "item2    203\n",
      "item3    304\n",
      "dtype: int64\n"
     ]
    }
   ],
   "source": [
    "data = [101, 203, 304]\n",
    "labels = ['item1', 'item2', 'item3']\n",
    "series = pd.Series(data, index=labels)\n",
    "print(series)"
   ]
  },
  {
   "cell_type": "code",
   "execution_count": 3,
   "id": "e8b7cfd7-b698-4db3-988a-e79f214bb08a",
   "metadata": {},
   "outputs": [
    {
     "name": "stdout",
     "output_type": "stream",
     "text": [
      "item1    101\n",
      "item2    203\n",
      "item3    304\n",
      "dtype: int64\n"
     ]
    }
   ],
   "source": [
    "series = series.sort_index()\n",
    "print(series)"
   ]
  },
  {
   "cell_type": "code",
   "execution_count": 4,
   "id": "40faa2c2-dc62-423f-bedc-fea3736fdf9a",
   "metadata": {},
   "outputs": [
    {
     "name": "stdout",
     "output_type": "stream",
     "text": [
      "item1    101\n",
      "item2    203\n",
      "item3    304\n",
      "dtype: int64\n"
     ]
    }
   ],
   "source": [
    "series = series.sort_values()\n",
    "print(series)"
   ]
  },
  {
   "cell_type": "markdown",
   "id": "972bcb2f-5785-42c7-8e1e-bccbc4f63909",
   "metadata": {},
   "source": [
    "# Creating a DataFrame"
   ]
  },
  {
   "cell_type": "code",
   "execution_count": 5,
   "id": "eb6b4d93-508c-4404-a2f1-1665ff76ca22",
   "metadata": {},
   "outputs": [
    {
     "name": "stdout",
     "output_type": "stream",
     "text": [
      "    Name  Age  Salary\n",
      "0  khan    25    1000\n",
      "1    ali   30    2000\n",
      "2  waqar   35    3000\n"
     ]
    }
   ],
   "source": [
    "import pandas as pd\n",
    "data = {\n",
    "            'Name': ['khan ', 'ali', 'waqar'], \n",
    "            'Age': [25, 30, 35],\n",
    "            'Salary': [1000, 2000, 3000]\n",
    "        }\n",
    "df = pd.DataFrame(data)\n",
    "print(df)"
   ]
  },
  {
   "cell_type": "code",
   "execution_count": 6,
   "id": "e2eb2405-076a-422b-8d23-afe721fd2336",
   "metadata": {},
   "outputs": [
    {
     "name": "stdout",
     "output_type": "stream",
     "text": [
      "     Name  Age  Salary\n",
      "0   SOBAN   25   20000\n",
      "1   babar   30   30000\n",
      "2  Ghafir   35   60000\n"
     ]
    }
   ],
   "source": [
    "import pandas as pd\n",
    "data = pd.DataFrame({\n",
    "            'Name': ['SOBAN', 'babar', 'Ghafir'], \n",
    "            'Age': [25, 30, 35],\n",
    "            'Salary': [20000, 30000, 60000]\n",
    "        })\n",
    "print(data)"
   ]
  },
  {
   "cell_type": "code",
   "execution_count": 7,
   "id": "0d92543a-7249-45db-99b0-5c455d5f19a0",
   "metadata": {},
   "outputs": [
    {
     "name": "stdout",
     "output_type": "stream",
     "text": [
      "    S     A\n",
      "S  10  1001\n",
      "G  20  2002\n",
      "M  30  3003\n"
     ]
    }
   ],
   "source": [
    "df1 = pd.DataFrame({\n",
    "    'S': [10, 20, 30],\n",
    "    'A': [1001, 2002, 3003]\n",
    "}, index=['S','G','M'])\n",
    "print(df1)"
   ]
  },
  {
   "cell_type": "code",
   "execution_count": 8,
   "id": "9cffbbe7-dc9d-4c1c-a023-a4a21de15b2c",
   "metadata": {},
   "outputs": [
    {
     "data": {
      "text/html": [
       "<div>\n",
       "<style scoped>\n",
       "    .dataframe tbody tr th:only-of-type {\n",
       "        vertical-align: middle;\n",
       "    }\n",
       "\n",
       "    .dataframe tbody tr th {\n",
       "        vertical-align: top;\n",
       "    }\n",
       "\n",
       "    .dataframe thead th {\n",
       "        text-align: right;\n",
       "    }\n",
       "</style>\n",
       "<table border=\"1\" class=\"dataframe\">\n",
       "  <thead>\n",
       "    <tr style=\"text-align: right;\">\n",
       "      <th></th>\n",
       "      <th>S</th>\n",
       "      <th>A</th>\n",
       "    </tr>\n",
       "  </thead>\n",
       "  <tbody>\n",
       "    <tr>\n",
       "      <th>S</th>\n",
       "      <td>10</td>\n",
       "      <td>1001</td>\n",
       "    </tr>\n",
       "    <tr>\n",
       "      <th>G</th>\n",
       "      <td>20</td>\n",
       "      <td>2002</td>\n",
       "    </tr>\n",
       "    <tr>\n",
       "      <th>M</th>\n",
       "      <td>30</td>\n",
       "      <td>3003</td>\n",
       "    </tr>\n",
       "  </tbody>\n",
       "</table>\n",
       "</div>"
      ],
      "text/plain": [
       "    S     A\n",
       "S  10  1001\n",
       "G  20  2002\n",
       "M  30  3003"
      ]
     },
     "execution_count": 8,
     "metadata": {},
     "output_type": "execute_result"
    }
   ],
   "source": [
    "df1.head()\n"
   ]
  },
  {
   "cell_type": "code",
   "execution_count": 9,
   "id": "155247c7-c1ad-4f2a-a775-c650efe99358",
   "metadata": {},
   "outputs": [
    {
     "data": {
      "text/html": [
       "<div>\n",
       "<style scoped>\n",
       "    .dataframe tbody tr th:only-of-type {\n",
       "        vertical-align: middle;\n",
       "    }\n",
       "\n",
       "    .dataframe tbody tr th {\n",
       "        vertical-align: top;\n",
       "    }\n",
       "\n",
       "    .dataframe thead th {\n",
       "        text-align: right;\n",
       "    }\n",
       "</style>\n",
       "<table border=\"1\" class=\"dataframe\">\n",
       "  <thead>\n",
       "    <tr style=\"text-align: right;\">\n",
       "      <th></th>\n",
       "      <th>S</th>\n",
       "      <th>A</th>\n",
       "    </tr>\n",
       "  </thead>\n",
       "  <tbody>\n",
       "    <tr>\n",
       "      <th>S</th>\n",
       "      <td>10</td>\n",
       "      <td>1001</td>\n",
       "    </tr>\n",
       "  </tbody>\n",
       "</table>\n",
       "</div>"
      ],
      "text/plain": [
       "    S     A\n",
       "S  10  1001"
      ]
     },
     "execution_count": 9,
     "metadata": {},
     "output_type": "execute_result"
    }
   ],
   "source": [
    "df1.head(1)"
   ]
  },
  {
   "cell_type": "code",
   "execution_count": 10,
   "id": "0fd74a21-2690-468b-8913-2e5406387803",
   "metadata": {},
   "outputs": [
    {
     "data": {
      "text/html": [
       "<div>\n",
       "<style scoped>\n",
       "    .dataframe tbody tr th:only-of-type {\n",
       "        vertical-align: middle;\n",
       "    }\n",
       "\n",
       "    .dataframe tbody tr th {\n",
       "        vertical-align: top;\n",
       "    }\n",
       "\n",
       "    .dataframe thead th {\n",
       "        text-align: right;\n",
       "    }\n",
       "</style>\n",
       "<table border=\"1\" class=\"dataframe\">\n",
       "  <thead>\n",
       "    <tr style=\"text-align: right;\">\n",
       "      <th></th>\n",
       "      <th>S</th>\n",
       "      <th>A</th>\n",
       "    </tr>\n",
       "  </thead>\n",
       "  <tbody>\n",
       "    <tr>\n",
       "      <th>S</th>\n",
       "      <td>10</td>\n",
       "      <td>1001</td>\n",
       "    </tr>\n",
       "    <tr>\n",
       "      <th>G</th>\n",
       "      <td>20</td>\n",
       "      <td>2002</td>\n",
       "    </tr>\n",
       "    <tr>\n",
       "      <th>M</th>\n",
       "      <td>30</td>\n",
       "      <td>3003</td>\n",
       "    </tr>\n",
       "  </tbody>\n",
       "</table>\n",
       "</div>"
      ],
      "text/plain": [
       "    S     A\n",
       "S  10  1001\n",
       "G  20  2002\n",
       "M  30  3003"
      ]
     },
     "execution_count": 10,
     "metadata": {},
     "output_type": "execute_result"
    }
   ],
   "source": [
    "df1.tail()"
   ]
  },
  {
   "cell_type": "code",
   "execution_count": 11,
   "id": "e6eccf27-d026-40c7-9bc3-484f538fe944",
   "metadata": {},
   "outputs": [
    {
     "data": {
      "text/plain": [
       "(3, 3)"
      ]
     },
     "execution_count": 11,
     "metadata": {},
     "output_type": "execute_result"
    }
   ],
   "source": [
    "df.shape"
   ]
  },
  {
   "cell_type": "code",
   "execution_count": 14,
   "id": "18bc5fe5-d9bc-484a-b75d-79668c149543",
   "metadata": {},
   "outputs": [
    {
     "data": {
      "text/plain": [
       "['S', 'A']"
      ]
     },
     "execution_count": 14,
     "metadata": {},
     "output_type": "execute_result"
    }
   ],
   "source": [
    "df1.columns.tolist()\n"
   ]
  },
  {
   "cell_type": "code",
   "execution_count": 13,
   "id": "8ef6bce2-2468-4785-ac78-5dac33680502",
   "metadata": {},
   "outputs": [
    {
     "data": {
      "text/plain": [
       "Index(['S', 'G', 'M'], dtype='object')"
      ]
     },
     "execution_count": 13,
     "metadata": {},
     "output_type": "execute_result"
    }
   ],
   "source": [
    "df1.index"
   ]
  },
  {
   "cell_type": "code",
   "execution_count": 15,
   "id": "a0168367-6b6a-4c14-b941-e0f5b578cbe0",
   "metadata": {},
   "outputs": [
    {
     "data": {
      "text/plain": [
       "S    int64\n",
       "A    int64\n",
       "dtype: object"
      ]
     },
     "execution_count": 15,
     "metadata": {},
     "output_type": "execute_result"
    }
   ],
   "source": [
    "df1.dtypes\n"
   ]
  },
  {
   "cell_type": "code",
   "execution_count": 34,
   "id": "59db8cb3-682b-4ae7-8773-4e5d4c56f654",
   "metadata": {},
   "outputs": [
    {
     "name": "stdout",
     "output_type": "stream",
     "text": [
      "<class 'pandas.core.frame.DataFrame'>\n",
      "Index: 3 entries, S to A\n",
      "Data columns (total 2 columns):\n",
      " #   Column  Non-Null Count  Dtype\n",
      "---  ------  --------------  -----\n",
      " 0   S       3 non-null      int64\n",
      " 1   A       3 non-null      int64\n",
      "dtypes: int64(2)\n",
      "memory usage: 72.0+ bytes\n"
     ]
    }
   ],
   "source": [
    "df1.info()\n"
   ]
  },
  {
   "cell_type": "code",
   "execution_count": 16,
   "id": "0471e236-dc0c-4374-a878-5bbfda6cc791",
   "metadata": {},
   "outputs": [
    {
     "data": {
      "text/html": [
       "<div>\n",
       "<style scoped>\n",
       "    .dataframe tbody tr th:only-of-type {\n",
       "        vertical-align: middle;\n",
       "    }\n",
       "\n",
       "    .dataframe tbody tr th {\n",
       "        vertical-align: top;\n",
       "    }\n",
       "\n",
       "    .dataframe thead th {\n",
       "        text-align: right;\n",
       "    }\n",
       "</style>\n",
       "<table border=\"1\" class=\"dataframe\">\n",
       "  <thead>\n",
       "    <tr style=\"text-align: right;\">\n",
       "      <th></th>\n",
       "      <th>S</th>\n",
       "      <th>A</th>\n",
       "    </tr>\n",
       "  </thead>\n",
       "  <tbody>\n",
       "    <tr>\n",
       "      <th>count</th>\n",
       "      <td>3.0</td>\n",
       "      <td>3.0</td>\n",
       "    </tr>\n",
       "    <tr>\n",
       "      <th>mean</th>\n",
       "      <td>20.0</td>\n",
       "      <td>2002.0</td>\n",
       "    </tr>\n",
       "    <tr>\n",
       "      <th>std</th>\n",
       "      <td>10.0</td>\n",
       "      <td>1001.0</td>\n",
       "    </tr>\n",
       "    <tr>\n",
       "      <th>min</th>\n",
       "      <td>10.0</td>\n",
       "      <td>1001.0</td>\n",
       "    </tr>\n",
       "    <tr>\n",
       "      <th>25%</th>\n",
       "      <td>15.0</td>\n",
       "      <td>1501.5</td>\n",
       "    </tr>\n",
       "    <tr>\n",
       "      <th>50%</th>\n",
       "      <td>20.0</td>\n",
       "      <td>2002.0</td>\n",
       "    </tr>\n",
       "    <tr>\n",
       "      <th>75%</th>\n",
       "      <td>25.0</td>\n",
       "      <td>2502.5</td>\n",
       "    </tr>\n",
       "    <tr>\n",
       "      <th>max</th>\n",
       "      <td>30.0</td>\n",
       "      <td>3003.0</td>\n",
       "    </tr>\n",
       "  </tbody>\n",
       "</table>\n",
       "</div>"
      ],
      "text/plain": [
       "          S       A\n",
       "count   3.0     3.0\n",
       "mean   20.0  2002.0\n",
       "std    10.0  1001.0\n",
       "min    10.0  1001.0\n",
       "25%    15.0  1501.5\n",
       "50%    20.0  2002.0\n",
       "75%    25.0  2502.5\n",
       "max    30.0  3003.0"
      ]
     },
     "execution_count": 16,
     "metadata": {},
     "output_type": "execute_result"
    }
   ],
   "source": [
    "df1.describe()"
   ]
  },
  {
   "cell_type": "code",
   "execution_count": 17,
   "id": "2935542f-892f-4325-a94e-ced4c4ce6d14",
   "metadata": {},
   "outputs": [
    {
     "data": {
      "text/html": [
       "<div>\n",
       "<style scoped>\n",
       "    .dataframe tbody tr th:only-of-type {\n",
       "        vertical-align: middle;\n",
       "    }\n",
       "\n",
       "    .dataframe tbody tr th {\n",
       "        vertical-align: top;\n",
       "    }\n",
       "\n",
       "    .dataframe thead th {\n",
       "        text-align: right;\n",
       "    }\n",
       "</style>\n",
       "<table border=\"1\" class=\"dataframe\">\n",
       "  <thead>\n",
       "    <tr style=\"text-align: right;\">\n",
       "      <th></th>\n",
       "      <th>S</th>\n",
       "      <th>A</th>\n",
       "    </tr>\n",
       "  </thead>\n",
       "  <tbody>\n",
       "    <tr>\n",
       "      <th>M</th>\n",
       "      <td>30</td>\n",
       "      <td>3003</td>\n",
       "    </tr>\n",
       "    <tr>\n",
       "      <th>G</th>\n",
       "      <td>20</td>\n",
       "      <td>2002</td>\n",
       "    </tr>\n",
       "  </tbody>\n",
       "</table>\n",
       "</div>"
      ],
      "text/plain": [
       "    S     A\n",
       "M  30  3003\n",
       "G  20  2002"
      ]
     },
     "execution_count": 17,
     "metadata": {},
     "output_type": "execute_result"
    }
   ],
   "source": [
    "df1.sample(2)"
   ]
  },
  {
   "cell_type": "code",
   "execution_count": 18,
   "id": "739e12fc-b9d6-442f-80d8-59cae2d8be3a",
   "metadata": {},
   "outputs": [
    {
     "data": {
      "text/plain": [
       "'    S     A\\nS  10  1001\\nG  20  2002\\nM  30  3003'"
      ]
     },
     "execution_count": 18,
     "metadata": {},
     "output_type": "execute_result"
    }
   ],
   "source": [
    "df1.to_string()\n",
    "\n"
   ]
  },
  {
   "cell_type": "markdown",
   "id": "c67e1f35-0160-43b3-b098-39920c224e1a",
   "metadata": {},
   "source": [
    "# Data Selection & Indexing?"
   ]
  },
  {
   "cell_type": "markdown",
   "id": "676af628-dd6d-43c8-9434-ef6face19a35",
   "metadata": {},
   "source": [
    "## Selecting Columns\n"
   ]
  },
  {
   "cell_type": "markdown",
   "id": "81ee5d99-f740-4ea7-ba3b-b18de1ac1fa1",
   "metadata": {},
   "source": [
    "### Single column (Series)"
   ]
  },
  {
   "cell_type": "code",
   "execution_count": 41,
   "id": "6a069fae-e8d1-44c6-92bd-fe7561e3594d",
   "metadata": {},
   "outputs": [
    {
     "data": {
      "text/plain": [
       "0    25\n",
       "1    30\n",
       "2    35\n",
       "Name: Age, dtype: int64"
      ]
     },
     "execution_count": 41,
     "metadata": {},
     "output_type": "execute_result"
    }
   ],
   "source": [
    "data['Age']"
   ]
  },
  {
   "cell_type": "code",
   "execution_count": 43,
   "id": "d58d1169-715d-4f6c-9aaa-5691f06b9bc7",
   "metadata": {},
   "outputs": [
    {
     "data": {
      "text/plain": [
       "0    20000\n",
       "1    30000\n",
       "2    60000\n",
       "Name: Salary, dtype: int64"
      ]
     },
     "execution_count": 43,
     "metadata": {},
     "output_type": "execute_result"
    }
   ],
   "source": [
    "data['Salary']"
   ]
  },
  {
   "cell_type": "markdown",
   "id": "166b5598-7682-4931-b91a-ad06de3ad8ab",
   "metadata": {},
   "source": [
    "## Multiple columns (DataFrame)"
   ]
  },
  {
   "cell_type": "code",
   "execution_count": 19,
   "id": "70d47af2-c39c-4566-8a1a-f2a9b7fe1a77",
   "metadata": {},
   "outputs": [
    {
     "data": {
      "text/html": [
       "<div>\n",
       "<style scoped>\n",
       "    .dataframe tbody tr th:only-of-type {\n",
       "        vertical-align: middle;\n",
       "    }\n",
       "\n",
       "    .dataframe tbody tr th {\n",
       "        vertical-align: top;\n",
       "    }\n",
       "\n",
       "    .dataframe thead th {\n",
       "        text-align: right;\n",
       "    }\n",
       "</style>\n",
       "<table border=\"1\" class=\"dataframe\">\n",
       "  <thead>\n",
       "    <tr style=\"text-align: right;\">\n",
       "      <th></th>\n",
       "      <th>Name</th>\n",
       "      <th>Age</th>\n",
       "      <th>Salary</th>\n",
       "    </tr>\n",
       "  </thead>\n",
       "  <tbody>\n",
       "    <tr>\n",
       "      <th>0</th>\n",
       "      <td>SOBAN</td>\n",
       "      <td>25</td>\n",
       "      <td>20000</td>\n",
       "    </tr>\n",
       "    <tr>\n",
       "      <th>1</th>\n",
       "      <td>babar</td>\n",
       "      <td>30</td>\n",
       "      <td>30000</td>\n",
       "    </tr>\n",
       "    <tr>\n",
       "      <th>2</th>\n",
       "      <td>Ghafir</td>\n",
       "      <td>35</td>\n",
       "      <td>60000</td>\n",
       "    </tr>\n",
       "  </tbody>\n",
       "</table>\n",
       "</div>"
      ],
      "text/plain": [
       "     Name  Age  Salary\n",
       "0   SOBAN   25   20000\n",
       "1   babar   30   30000\n",
       "2  Ghafir   35   60000"
      ]
     },
     "execution_count": 19,
     "metadata": {},
     "output_type": "execute_result"
    }
   ],
   "source": [
    "data"
   ]
  },
  {
   "cell_type": "code",
   "execution_count": 20,
   "id": "12a05596-2fa4-4788-860b-fbf573866157",
   "metadata": {},
   "outputs": [
    {
     "data": {
      "text/html": [
       "<div>\n",
       "<style scoped>\n",
       "    .dataframe tbody tr th:only-of-type {\n",
       "        vertical-align: middle;\n",
       "    }\n",
       "\n",
       "    .dataframe tbody tr th {\n",
       "        vertical-align: top;\n",
       "    }\n",
       "\n",
       "    .dataframe thead th {\n",
       "        text-align: right;\n",
       "    }\n",
       "</style>\n",
       "<table border=\"1\" class=\"dataframe\">\n",
       "  <thead>\n",
       "    <tr style=\"text-align: right;\">\n",
       "      <th></th>\n",
       "      <th>Name</th>\n",
       "      <th>Age</th>\n",
       "    </tr>\n",
       "  </thead>\n",
       "  <tbody>\n",
       "    <tr>\n",
       "      <th>0</th>\n",
       "      <td>SOBAN</td>\n",
       "      <td>25</td>\n",
       "    </tr>\n",
       "    <tr>\n",
       "      <th>1</th>\n",
       "      <td>babar</td>\n",
       "      <td>30</td>\n",
       "    </tr>\n",
       "    <tr>\n",
       "      <th>2</th>\n",
       "      <td>Ghafir</td>\n",
       "      <td>35</td>\n",
       "    </tr>\n",
       "  </tbody>\n",
       "</table>\n",
       "</div>"
      ],
      "text/plain": [
       "     Name  Age\n",
       "0   SOBAN   25\n",
       "1   babar   30\n",
       "2  Ghafir   35"
      ]
     },
     "execution_count": 20,
     "metadata": {},
     "output_type": "execute_result"
    }
   ],
   "source": [
    "data[['Name', 'Age']]\n"
   ]
  },
  {
   "cell_type": "code",
   "execution_count": 21,
   "id": "708338e3-e297-4a6d-ba04-242e32501359",
   "metadata": {},
   "outputs": [
    {
     "data": {
      "text/html": [
       "<div>\n",
       "<style scoped>\n",
       "    .dataframe tbody tr th:only-of-type {\n",
       "        vertical-align: middle;\n",
       "    }\n",
       "\n",
       "    .dataframe tbody tr th {\n",
       "        vertical-align: top;\n",
       "    }\n",
       "\n",
       "    .dataframe thead th {\n",
       "        text-align: right;\n",
       "    }\n",
       "</style>\n",
       "<table border=\"1\" class=\"dataframe\">\n",
       "  <thead>\n",
       "    <tr style=\"text-align: right;\">\n",
       "      <th></th>\n",
       "      <th>Name</th>\n",
       "      <th>Salary</th>\n",
       "    </tr>\n",
       "  </thead>\n",
       "  <tbody>\n",
       "    <tr>\n",
       "      <th>0</th>\n",
       "      <td>SOBAN</td>\n",
       "      <td>20000</td>\n",
       "    </tr>\n",
       "    <tr>\n",
       "      <th>1</th>\n",
       "      <td>babar</td>\n",
       "      <td>30000</td>\n",
       "    </tr>\n",
       "    <tr>\n",
       "      <th>2</th>\n",
       "      <td>Ghafir</td>\n",
       "      <td>60000</td>\n",
       "    </tr>\n",
       "  </tbody>\n",
       "</table>\n",
       "</div>"
      ],
      "text/plain": [
       "     Name  Salary\n",
       "0   SOBAN   20000\n",
       "1   babar   30000\n",
       "2  Ghafir   60000"
      ]
     },
     "execution_count": 21,
     "metadata": {},
     "output_type": "execute_result"
    }
   ],
   "source": [
    "data[['Name', 'Salary']]"
   ]
  },
  {
   "cell_type": "markdown",
   "id": "a06a873a-76c5-4085-a910-1d1add4c7a7d",
   "metadata": {},
   "source": [
    "# Selecting Rows"
   ]
  },
  {
   "cell_type": "markdown",
   "id": "fbf7fbb6-57dc-4c41-8068-1f309c94bae9",
   "metadata": {},
   "source": [
    "## label-based"
   ]
  },
  {
   "cell_type": "code",
   "execution_count": 22,
   "id": "1715fe16-138d-4a09-94e2-b35ffa2c969a",
   "metadata": {},
   "outputs": [
    {
     "data": {
      "text/plain": [
       "Name      SOBAN\n",
       "Age          25\n",
       "Salary    20000\n",
       "Name: 0, dtype: object"
      ]
     },
     "execution_count": 22,
     "metadata": {},
     "output_type": "execute_result"
    }
   ],
   "source": [
    "data.loc[0]         "
   ]
  },
  {
   "cell_type": "code",
   "execution_count": 23,
   "id": "f1e21598-03a8-48fe-bb0c-719a74a0e90b",
   "metadata": {},
   "outputs": [
    {
     "data": {
      "text/html": [
       "<div>\n",
       "<style scoped>\n",
       "    .dataframe tbody tr th:only-of-type {\n",
       "        vertical-align: middle;\n",
       "    }\n",
       "\n",
       "    .dataframe tbody tr th {\n",
       "        vertical-align: top;\n",
       "    }\n",
       "\n",
       "    .dataframe thead th {\n",
       "        text-align: right;\n",
       "    }\n",
       "</style>\n",
       "<table border=\"1\" class=\"dataframe\">\n",
       "  <thead>\n",
       "    <tr style=\"text-align: right;\">\n",
       "      <th></th>\n",
       "      <th>Name</th>\n",
       "      <th>Age</th>\n",
       "      <th>Salary</th>\n",
       "    </tr>\n",
       "  </thead>\n",
       "  <tbody>\n",
       "    <tr>\n",
       "      <th>0</th>\n",
       "      <td>SOBAN</td>\n",
       "      <td>25</td>\n",
       "      <td>20000</td>\n",
       "    </tr>\n",
       "    <tr>\n",
       "      <th>1</th>\n",
       "      <td>babar</td>\n",
       "      <td>30</td>\n",
       "      <td>30000</td>\n",
       "    </tr>\n",
       "  </tbody>\n",
       "</table>\n",
       "</div>"
      ],
      "text/plain": [
       "    Name  Age  Salary\n",
       "0  SOBAN   25   20000\n",
       "1  babar   30   30000"
      ]
     },
     "execution_count": 23,
     "metadata": {},
     "output_type": "execute_result"
    }
   ],
   "source": [
    "data.loc[0:1]"
   ]
  },
  {
   "cell_type": "code",
   "execution_count": 55,
   "id": "0959fc46-8595-47f9-9b8f-102f2f2cf90e",
   "metadata": {},
   "outputs": [
    {
     "data": {
      "text/html": [
       "<div>\n",
       "<style scoped>\n",
       "    .dataframe tbody tr th:only-of-type {\n",
       "        vertical-align: middle;\n",
       "    }\n",
       "\n",
       "    .dataframe tbody tr th {\n",
       "        vertical-align: top;\n",
       "    }\n",
       "\n",
       "    .dataframe thead th {\n",
       "        text-align: right;\n",
       "    }\n",
       "</style>\n",
       "<table border=\"1\" class=\"dataframe\">\n",
       "  <thead>\n",
       "    <tr style=\"text-align: right;\">\n",
       "      <th></th>\n",
       "      <th>S</th>\n",
       "      <th>A</th>\n",
       "    </tr>\n",
       "  </thead>\n",
       "  <tbody>\n",
       "    <tr>\n",
       "      <th>S</th>\n",
       "      <td>10</td>\n",
       "      <td>1001</td>\n",
       "    </tr>\n",
       "    <tr>\n",
       "      <th>H</th>\n",
       "      <td>20</td>\n",
       "      <td>2002</td>\n",
       "    </tr>\n",
       "    <tr>\n",
       "      <th>A</th>\n",
       "      <td>30</td>\n",
       "      <td>3003</td>\n",
       "    </tr>\n",
       "  </tbody>\n",
       "</table>\n",
       "</div>"
      ],
      "text/plain": [
       "    S     A\n",
       "S  10  1001\n",
       "H  20  2002\n",
       "A  30  3003"
      ]
     },
     "execution_count": 55,
     "metadata": {},
     "output_type": "execute_result"
    }
   ],
   "source": [
    "df1"
   ]
  },
  {
   "cell_type": "code",
   "execution_count": 27,
   "id": "59b3f8e4-9d5f-456c-a151-b8b699b024c3",
   "metadata": {},
   "outputs": [
    {
     "name": "stdout",
     "output_type": "stream",
     "text": [
      "1001\n"
     ]
    }
   ],
   "source": [
    "rows_x_to_z = df1.loc['S','A'] \n",
    "print(rows_x_to_z)"
   ]
  },
  {
   "cell_type": "code",
   "execution_count": 61,
   "id": "a3e0fe44-9079-40b3-885f-d399157adfdd",
   "metadata": {},
   "outputs": [
    {
     "name": "stdout",
     "output_type": "stream",
     "text": [
      "S    1001\n",
      "H    2002\n",
      "A    3003\n",
      "Name: A, dtype: int64\n"
     ]
    }
   ],
   "source": [
    "col_a = df1.loc[:, 'A'] \n",
    "print(col_a)"
   ]
  },
  {
   "cell_type": "markdown",
   "id": "1162df85-3194-4bc4-b23d-be779ed4e855",
   "metadata": {},
   "source": [
    "## integer position-based"
   ]
  },
  {
   "cell_type": "code",
   "execution_count": 62,
   "id": "0b29e3f6-08eb-44bb-8a48-7a43e72518ab",
   "metadata": {},
   "outputs": [
    {
     "data": {
      "text/plain": [
       "Name      khan \n",
       "Age          25\n",
       "Salary     1000\n",
       "Name: 0, dtype: object"
      ]
     },
     "execution_count": 62,
     "metadata": {},
     "output_type": "execute_result"
    }
   ],
   "source": [
    "df.iloc[0] "
   ]
  },
  {
   "cell_type": "code",
   "execution_count": 28,
   "id": "d268dbc2-890b-4d4e-8a17-08aa416e509b",
   "metadata": {},
   "outputs": [
    {
     "data": {
      "text/html": [
       "<div>\n",
       "<style scoped>\n",
       "    .dataframe tbody tr th:only-of-type {\n",
       "        vertical-align: middle;\n",
       "    }\n",
       "\n",
       "    .dataframe tbody tr th {\n",
       "        vertical-align: top;\n",
       "    }\n",
       "\n",
       "    .dataframe thead th {\n",
       "        text-align: right;\n",
       "    }\n",
       "</style>\n",
       "<table border=\"1\" class=\"dataframe\">\n",
       "  <thead>\n",
       "    <tr style=\"text-align: right;\">\n",
       "      <th></th>\n",
       "      <th>S</th>\n",
       "      <th>A</th>\n",
       "    </tr>\n",
       "  </thead>\n",
       "  <tbody>\n",
       "    <tr>\n",
       "      <th>S</th>\n",
       "      <td>10</td>\n",
       "      <td>1001</td>\n",
       "    </tr>\n",
       "    <tr>\n",
       "      <th>G</th>\n",
       "      <td>20</td>\n",
       "      <td>2002</td>\n",
       "    </tr>\n",
       "    <tr>\n",
       "      <th>M</th>\n",
       "      <td>30</td>\n",
       "      <td>3003</td>\n",
       "    </tr>\n",
       "  </tbody>\n",
       "</table>\n",
       "</div>"
      ],
      "text/plain": [
       "    S     A\n",
       "S  10  1001\n",
       "G  20  2002\n",
       "M  30  3003"
      ]
     },
     "execution_count": 28,
     "metadata": {},
     "output_type": "execute_result"
    }
   ],
   "source": [
    "df1"
   ]
  },
  {
   "cell_type": "code",
   "execution_count": 31,
   "id": "e1930ffb-4098-4598-b52e-41ad4af1c277",
   "metadata": {},
   "outputs": [
    {
     "data": {
      "text/html": [
       "<div>\n",
       "<style scoped>\n",
       "    .dataframe tbody tr th:only-of-type {\n",
       "        vertical-align: middle;\n",
       "    }\n",
       "\n",
       "    .dataframe tbody tr th {\n",
       "        vertical-align: top;\n",
       "    }\n",
       "\n",
       "    .dataframe thead th {\n",
       "        text-align: right;\n",
       "    }\n",
       "</style>\n",
       "<table border=\"1\" class=\"dataframe\">\n",
       "  <thead>\n",
       "    <tr style=\"text-align: right;\">\n",
       "      <th></th>\n",
       "      <th>Name</th>\n",
       "      <th>Age</th>\n",
       "      <th>Salary</th>\n",
       "    </tr>\n",
       "  </thead>\n",
       "  <tbody>\n",
       "    <tr>\n",
       "      <th>0</th>\n",
       "      <td>khan</td>\n",
       "      <td>25</td>\n",
       "      <td>1000</td>\n",
       "    </tr>\n",
       "    <tr>\n",
       "      <th>1</th>\n",
       "      <td>ali</td>\n",
       "      <td>30</td>\n",
       "      <td>2000</td>\n",
       "    </tr>\n",
       "  </tbody>\n",
       "</table>\n",
       "</div>"
      ],
      "text/plain": [
       "    Name  Age  Salary\n",
       "0  khan    25    1000\n",
       "1    ali   30    2000"
      ]
     },
     "execution_count": 31,
     "metadata": {},
     "output_type": "execute_result"
    }
   ],
   "source": [
    "df.iloc[0:2]"
   ]
  },
  {
   "cell_type": "code",
   "execution_count": 30,
   "id": "ee56c92a-13f2-4bb2-8542-2499b8ad9988",
   "metadata": {},
   "outputs": [
    {
     "name": "stdout",
     "output_type": "stream",
     "text": [
      "S      10\n",
      "A    1001\n",
      "Name: S, dtype: int64\n"
     ]
    }
   ],
   "source": [
    "first_row = df1.iloc[0]\n",
    "print(first_row)"
   ]
  },
  {
   "cell_type": "code",
   "execution_count": 32,
   "id": "9f72abf6-2f75-47bd-8ab3-83a352735faa",
   "metadata": {},
   "outputs": [
    {
     "name": "stdout",
     "output_type": "stream",
     "text": [
      "    S     A\n",
      "S  10  1001\n",
      "G  20  2002\n"
     ]
    }
   ],
   "source": [
    "rows_0_to_1 = df1.iloc[0:2]\n",
    "print(rows_0_to_1)"
   ]
  },
  {
   "cell_type": "code",
   "execution_count": 71,
   "id": "12082405-fb80-4db5-b944-96ded0562c03",
   "metadata": {},
   "outputs": [
    {
     "name": "stdout",
     "output_type": "stream",
     "text": [
      "S    1001\n",
      "H    2002\n",
      "A    3003\n",
      "Name: A, dtype: int64\n"
     ]
    }
   ],
   "source": [
    "col_b = df1.iloc[:, 1] \n",
    "print(col_b)"
   ]
  },
  {
   "cell_type": "code",
   "execution_count": 33,
   "id": "de1816ce-6fec-43d7-aab4-e92ada1099da",
   "metadata": {},
   "outputs": [
    {
     "data": {
      "text/plain": [
       "Name        ali\n",
       "Age          30\n",
       "Salary    65000\n",
       "Name: 1, dtype: object"
      ]
     },
     "execution_count": 33,
     "metadata": {},
     "output_type": "execute_result"
    }
   ],
   "source": [
    "df.loc[1, 'Salary'] = 65000\n",
    "df.loc[1]\n"
   ]
  },
  {
   "cell_type": "markdown",
   "id": "0ec34d46-de87-4845-b457-0d07e7d0aa54",
   "metadata": {},
   "source": [
    "## Aditional Selection"
   ]
  },
  {
   "cell_type": "code",
   "execution_count": 34,
   "id": "c956baad-3efd-4961-bc42-cb8a5c20ea6d",
   "metadata": {},
   "outputs": [
    {
     "data": {
      "text/html": [
       "<div>\n",
       "<style scoped>\n",
       "    .dataframe tbody tr th:only-of-type {\n",
       "        vertical-align: middle;\n",
       "    }\n",
       "\n",
       "    .dataframe tbody tr th {\n",
       "        vertical-align: top;\n",
       "    }\n",
       "\n",
       "    .dataframe thead th {\n",
       "        text-align: right;\n",
       "    }\n",
       "</style>\n",
       "<table border=\"1\" class=\"dataframe\">\n",
       "  <thead>\n",
       "    <tr style=\"text-align: right;\">\n",
       "      <th></th>\n",
       "      <th>Name</th>\n",
       "      <th>Age</th>\n",
       "      <th>Salary</th>\n",
       "    </tr>\n",
       "  </thead>\n",
       "  <tbody>\n",
       "    <tr>\n",
       "      <th>1</th>\n",
       "      <td>ali</td>\n",
       "      <td>30</td>\n",
       "      <td>65000</td>\n",
       "    </tr>\n",
       "    <tr>\n",
       "      <th>2</th>\n",
       "      <td>waqar</td>\n",
       "      <td>35</td>\n",
       "      <td>3000</td>\n",
       "    </tr>\n",
       "  </tbody>\n",
       "</table>\n",
       "</div>"
      ],
      "text/plain": [
       "    Name  Age  Salary\n",
       "1    ali   30   65000\n",
       "2  waqar   35    3000"
      ]
     },
     "execution_count": 34,
     "metadata": {},
     "output_type": "execute_result"
    }
   ],
   "source": [
    "df[df['Age'] > 25] "
   ]
  },
  {
   "cell_type": "markdown",
   "id": "c1caffe5-65aa-4eac-8f34-653b470073fe",
   "metadata": {},
   "source": [
    "# Handling Missing Data"
   ]
  },
  {
   "cell_type": "markdown",
   "id": "e0b1c24b-811f-4cde-9772-7bb30b460b87",
   "metadata": {},
   "source": [
    "## Detecting Missing Data"
   ]
  },
  {
   "cell_type": "code",
   "execution_count": 35,
   "id": "81dd83ba-f059-4006-8ce9-a519c27bd6a7",
   "metadata": {},
   "outputs": [],
   "source": [
    "missing_data = {\n",
    "    'A': [1, 2, None, 4],\n",
    "    'B': [None, 5, 6, 7],\n",
    "    'C': [8, 9, 10, None]\n",
    "}\n",
    "missing_data = pd.DataFrame(missing_data)\n"
   ]
  },
  {
   "cell_type": "code",
   "execution_count": 81,
   "id": "9f33236d-e28a-4fb2-baf9-3f0777d8eefa",
   "metadata": {},
   "outputs": [
    {
     "data": {
      "text/html": [
       "<div>\n",
       "<style scoped>\n",
       "    .dataframe tbody tr th:only-of-type {\n",
       "        vertical-align: middle;\n",
       "    }\n",
       "\n",
       "    .dataframe tbody tr th {\n",
       "        vertical-align: top;\n",
       "    }\n",
       "\n",
       "    .dataframe thead th {\n",
       "        text-align: right;\n",
       "    }\n",
       "</style>\n",
       "<table border=\"1\" class=\"dataframe\">\n",
       "  <thead>\n",
       "    <tr style=\"text-align: right;\">\n",
       "      <th></th>\n",
       "      <th>A</th>\n",
       "      <th>B</th>\n",
       "      <th>C</th>\n",
       "    </tr>\n",
       "  </thead>\n",
       "  <tbody>\n",
       "    <tr>\n",
       "      <th>0</th>\n",
       "      <td>11.0</td>\n",
       "      <td>NaN</td>\n",
       "      <td>80.0</td>\n",
       "    </tr>\n",
       "    <tr>\n",
       "      <th>1</th>\n",
       "      <td>22.0</td>\n",
       "      <td>54.0</td>\n",
       "      <td>NaN</td>\n",
       "    </tr>\n",
       "    <tr>\n",
       "      <th>2</th>\n",
       "      <td>NaN</td>\n",
       "      <td>63.0</td>\n",
       "      <td>100.0</td>\n",
       "    </tr>\n",
       "    <tr>\n",
       "      <th>3</th>\n",
       "      <td>43.0</td>\n",
       "      <td>72.0</td>\n",
       "      <td>NaN</td>\n",
       "    </tr>\n",
       "  </tbody>\n",
       "</table>\n",
       "</div>"
      ],
      "text/plain": [
       "      A     B      C\n",
       "0  11.0   NaN   80.0\n",
       "1  22.0  54.0    NaN\n",
       "2   NaN  63.0  100.0\n",
       "3  43.0  72.0    NaN"
      ]
     },
     "execution_count": 81,
     "metadata": {},
     "output_type": "execute_result"
    }
   ],
   "source": [
    "missing_data = pd.DataFrame({\n",
    "    'A': [11, 22, None, 43],\n",
    "    'B': [None, 54, 63, 72],\n",
    "    'C': [80, None, 100, None]\n",
    "})\n",
    "missing_data\n"
   ]
  },
  {
   "cell_type": "code",
   "execution_count": 83,
   "id": "e68efbf9-d8f4-44b9-82d4-acb5823f8178",
   "metadata": {},
   "outputs": [
    {
     "data": {
      "text/html": [
       "<div>\n",
       "<style scoped>\n",
       "    .dataframe tbody tr th:only-of-type {\n",
       "        vertical-align: middle;\n",
       "    }\n",
       "\n",
       "    .dataframe tbody tr th {\n",
       "        vertical-align: top;\n",
       "    }\n",
       "\n",
       "    .dataframe thead th {\n",
       "        text-align: right;\n",
       "    }\n",
       "</style>\n",
       "<table border=\"1\" class=\"dataframe\">\n",
       "  <thead>\n",
       "    <tr style=\"text-align: right;\">\n",
       "      <th></th>\n",
       "      <th>A</th>\n",
       "      <th>B</th>\n",
       "      <th>C</th>\n",
       "    </tr>\n",
       "  </thead>\n",
       "  <tbody>\n",
       "    <tr>\n",
       "      <th>0</th>\n",
       "      <td>False</td>\n",
       "      <td>True</td>\n",
       "      <td>False</td>\n",
       "    </tr>\n",
       "    <tr>\n",
       "      <th>1</th>\n",
       "      <td>False</td>\n",
       "      <td>False</td>\n",
       "      <td>True</td>\n",
       "    </tr>\n",
       "    <tr>\n",
       "      <th>2</th>\n",
       "      <td>True</td>\n",
       "      <td>False</td>\n",
       "      <td>False</td>\n",
       "    </tr>\n",
       "    <tr>\n",
       "      <th>3</th>\n",
       "      <td>False</td>\n",
       "      <td>False</td>\n",
       "      <td>True</td>\n",
       "    </tr>\n",
       "  </tbody>\n",
       "</table>\n",
       "</div>"
      ],
      "text/plain": [
       "       A      B      C\n",
       "0  False   True  False\n",
       "1  False  False   True\n",
       "2   True  False  False\n",
       "3  False  False   True"
      ]
     },
     "execution_count": 83,
     "metadata": {},
     "output_type": "execute_result"
    }
   ],
   "source": [
    "missing_data.isnull()"
   ]
  },
  {
   "cell_type": "code",
   "execution_count": 85,
   "id": "9f6862e9-efa2-4e1b-a795-0078572845d6",
   "metadata": {},
   "outputs": [
    {
     "data": {
      "text/plain": [
       "A    1\n",
       "B    1\n",
       "C    2\n",
       "dtype: int64"
      ]
     },
     "execution_count": 85,
     "metadata": {},
     "output_type": "execute_result"
    }
   ],
   "source": [
    "missing_data.isnull().sum()"
   ]
  },
  {
   "cell_type": "markdown",
   "id": "a7dc039e-ac9d-4baa-9bd0-bb8df691da2b",
   "metadata": {},
   "source": [
    "# Changing Data Types"
   ]
  },
  {
   "cell_type": "code",
   "execution_count": 87,
   "id": "08af7967-4cbe-4932-9da9-385e97c4c16f",
   "metadata": {},
   "outputs": [
    {
     "data": {
      "text/plain": [
       "0    25\n",
       "1    30\n",
       "2    35\n",
       "Name: Age, dtype: int64"
      ]
     },
     "execution_count": 87,
     "metadata": {},
     "output_type": "execute_result"
    }
   ],
   "source": [
    "df['Age']"
   ]
  },
  {
   "cell_type": "code",
   "execution_count": 89,
   "id": "0e076553-8bca-49ca-917c-9a0783d7b732",
   "metadata": {},
   "outputs": [
    {
     "name": "stdout",
     "output_type": "stream",
     "text": [
      "Name       object\n",
      "Age       float64\n",
      "Salary      int64\n",
      "dtype: object\n"
     ]
    }
   ],
   "source": [
    "df['Age'] = df['Age'].astype(float)  \n",
    "print(df.dtypes)"
   ]
  },
  {
   "cell_type": "code",
   "execution_count": 90,
   "id": "b9583a06-e8db-4b7d-a43d-671568bf4f57",
   "metadata": {},
   "outputs": [
    {
     "data": {
      "text/plain": [
       "0    25.0\n",
       "1    30.0\n",
       "2    35.0\n",
       "Name: Age, dtype: float64"
      ]
     },
     "execution_count": 90,
     "metadata": {},
     "output_type": "execute_result"
    }
   ],
   "source": [
    "df['Age']\n"
   ]
  },
  {
   "cell_type": "markdown",
   "id": "bb7afce2-d7b7-48b4-b4e5-ca951ee17125",
   "metadata": {},
   "source": [
    "# Removing Duplicates"
   ]
  },
  {
   "cell_type": "code",
   "execution_count": 36,
   "id": "07645159-67cc-401b-a9b1-f29cf6b7cadf",
   "metadata": {},
   "outputs": [
    {
     "name": "stdout",
     "output_type": "stream",
     "text": [
      "      Name  Age  Salary\n",
      "0  Ghafir    21     500\n",
      "1    Babar   13     600\n",
      "2      Ali   22     500\n",
      "3   khizar   30     700\n"
     ]
    }
   ],
   "source": [
    "df_with_duplicates = pd.DataFrame({\n",
    "    'Name': ['Ghafir ', 'Babar', 'Ali', 'khizar'], \n",
    "    'Age': [21, 13, 22, 30],\n",
    "    'Salary': [500, 600, 500, 700]\n",
    "}) \n",
    "print(df_with_duplicates)"
   ]
  },
  {
   "cell_type": "code",
   "execution_count": 37,
   "id": "14430af7-c8a7-4695-9b9d-a8b1dfc0d82d",
   "metadata": {},
   "outputs": [
    {
     "name": "stdout",
     "output_type": "stream",
     "text": [
      "0    False\n",
      "1    False\n",
      "2    False\n",
      "3    False\n",
      "dtype: bool\n"
     ]
    }
   ],
   "source": [
    "print(df_with_duplicates.duplicated())"
   ]
  },
  {
   "cell_type": "code",
   "execution_count": 38,
   "id": "bdd6755e-9963-4b12-a253-f49a3e68271a",
   "metadata": {},
   "outputs": [
    {
     "name": "stdout",
     "output_type": "stream",
     "text": [
      "      Name  Age  Salary\n",
      "0  Ghafir    21     500\n",
      "1    Babar   13     600\n",
      "2      Ali   22     500\n",
      "3   khizar   30     700\n"
     ]
    }
   ],
   "source": [
    "print(df_with_duplicates.drop_duplicates())"
   ]
  },
  {
   "cell_type": "markdown",
   "id": "436d4973-4bfe-4bdb-9dc3-cab1e2ae6b74",
   "metadata": {},
   "source": [
    "# Data Aggregation & Grouping\n"
   ]
  },
  {
   "cell_type": "code",
   "execution_count": 39,
   "id": "708b9854-c024-4f34-85d3-e2d3a1b26d61",
   "metadata": {},
   "outputs": [
    {
     "data": {
      "text/html": [
       "<div>\n",
       "<style scoped>\n",
       "    .dataframe tbody tr th:only-of-type {\n",
       "        vertical-align: middle;\n",
       "    }\n",
       "\n",
       "    .dataframe tbody tr th {\n",
       "        vertical-align: top;\n",
       "    }\n",
       "\n",
       "    .dataframe thead th {\n",
       "        text-align: right;\n",
       "    }\n",
       "</style>\n",
       "<table border=\"1\" class=\"dataframe\">\n",
       "  <thead>\n",
       "    <tr style=\"text-align: right;\">\n",
       "      <th></th>\n",
       "      <th>Name</th>\n",
       "      <th>Age</th>\n",
       "      <th>Salary</th>\n",
       "    </tr>\n",
       "  </thead>\n",
       "  <tbody>\n",
       "    <tr>\n",
       "      <th>0</th>\n",
       "      <td>khan</td>\n",
       "      <td>25</td>\n",
       "      <td>1000</td>\n",
       "    </tr>\n",
       "    <tr>\n",
       "      <th>1</th>\n",
       "      <td>ali</td>\n",
       "      <td>30</td>\n",
       "      <td>65000</td>\n",
       "    </tr>\n",
       "    <tr>\n",
       "      <th>2</th>\n",
       "      <td>waqar</td>\n",
       "      <td>35</td>\n",
       "      <td>3000</td>\n",
       "    </tr>\n",
       "  </tbody>\n",
       "</table>\n",
       "</div>"
      ],
      "text/plain": [
       "    Name  Age  Salary\n",
       "0  khan    25    1000\n",
       "1    ali   30   65000\n",
       "2  waqar   35    3000"
      ]
     },
     "execution_count": 39,
     "metadata": {},
     "output_type": "execute_result"
    }
   ],
   "source": [
    "df"
   ]
  },
  {
   "cell_type": "code",
   "execution_count": 40,
   "id": "e406af34-7377-4c22-a34d-e4f62e86b4a7",
   "metadata": {},
   "outputs": [
    {
     "name": "stdout",
     "output_type": "stream",
     "text": [
      "69000\n"
     ]
    }
   ],
   "source": [
    "print(df['Salary'].sum())"
   ]
  },
  {
   "cell_type": "code",
   "execution_count": 41,
   "id": "4572dbb2-6ae5-4128-8dd2-08cc5cc73701",
   "metadata": {},
   "outputs": [
    {
     "name": "stdout",
     "output_type": "stream",
     "text": [
      "30.0\n"
     ]
    }
   ],
   "source": [
    "print(df['Age'].mean())"
   ]
  },
  {
   "cell_type": "code",
   "execution_count": 106,
   "id": "f3beaf0e-6e98-4c2d-967b-28e3bcf68a04",
   "metadata": {},
   "outputs": [
    {
     "name": "stdout",
     "output_type": "stream",
     "text": [
      "3\n"
     ]
    }
   ],
   "source": [
    "print(df['Salary'].count())\n"
   ]
  },
  {
   "cell_type": "code",
   "execution_count": 42,
   "id": "4b5eec18-5bac-4330-820a-31535662507a",
   "metadata": {},
   "outputs": [
    {
     "name": "stdout",
     "output_type": "stream",
     "text": [
      "25\n"
     ]
    }
   ],
   "source": [
    "print(df['Age'].min())\n"
   ]
  },
  {
   "cell_type": "code",
   "execution_count": 43,
   "id": "9280b220-0067-44b6-9598-c3b1b6ffa6e1",
   "metadata": {},
   "outputs": [
    {
     "name": "stdout",
     "output_type": "stream",
     "text": [
      "65000\n"
     ]
    }
   ],
   "source": [
    "print(df['Salary'].max())"
   ]
  },
  {
   "cell_type": "code",
   "execution_count": 44,
   "id": "0fed9154-b15a-4132-a3cc-b4f6586ffa64",
   "metadata": {},
   "outputs": [],
   "source": [
    "grouped = df.groupby('Age').sum()\n"
   ]
  },
  {
   "cell_type": "code",
   "execution_count": 46,
   "id": "d7af6e63-5113-4663-8ccc-aa5669cdb9e6",
   "metadata": {},
   "outputs": [
    {
     "data": {
      "text/html": [
       "<div>\n",
       "<style scoped>\n",
       "    .dataframe tbody tr th:only-of-type {\n",
       "        vertical-align: middle;\n",
       "    }\n",
       "\n",
       "    .dataframe tbody tr th {\n",
       "        vertical-align: top;\n",
       "    }\n",
       "\n",
       "    .dataframe thead th {\n",
       "        text-align: right;\n",
       "    }\n",
       "</style>\n",
       "<table border=\"1\" class=\"dataframe\">\n",
       "  <thead>\n",
       "    <tr style=\"text-align: right;\">\n",
       "      <th></th>\n",
       "      <th>Name</th>\n",
       "      <th>Salary</th>\n",
       "    </tr>\n",
       "    <tr>\n",
       "      <th>Age</th>\n",
       "      <th></th>\n",
       "      <th></th>\n",
       "    </tr>\n",
       "  </thead>\n",
       "  <tbody>\n",
       "    <tr>\n",
       "      <th>25</th>\n",
       "      <td>khan</td>\n",
       "      <td>1000</td>\n",
       "    </tr>\n",
       "    <tr>\n",
       "      <th>30</th>\n",
       "      <td>ali</td>\n",
       "      <td>65000</td>\n",
       "    </tr>\n",
       "    <tr>\n",
       "      <th>35</th>\n",
       "      <td>waqar</td>\n",
       "      <td>3000</td>\n",
       "    </tr>\n",
       "  </tbody>\n",
       "</table>\n",
       "</div>"
      ],
      "text/plain": [
       "      Name  Salary\n",
       "Age               \n",
       "25   khan     1000\n",
       "30     ali   65000\n",
       "35   waqar    3000"
      ]
     },
     "execution_count": 46,
     "metadata": {},
     "output_type": "execute_result"
    }
   ],
   "source": [
    "grouped"
   ]
  },
  {
   "cell_type": "code",
   "execution_count": 116,
   "id": "e832db37-4efa-42c1-acae-09a421249ae7",
   "metadata": {},
   "outputs": [],
   "source": [
    "grouped_salary_mean = df.groupby('Age')['Salary'].mean()\n"
   ]
  },
  {
   "cell_type": "code",
   "execution_count": 118,
   "id": "2a05ab10-0779-402d-8123-47bb7c5859d4",
   "metadata": {},
   "outputs": [
    {
     "data": {
      "text/plain": [
       "Age\n",
       "25.0     1000.0\n",
       "30.0    65000.0\n",
       "35.0     3000.0\n",
       "Name: Salary, dtype: float64"
      ]
     },
     "execution_count": 118,
     "metadata": {},
     "output_type": "execute_result"
    }
   ],
   "source": [
    "grouped_salary_mean"
   ]
  },
  {
   "cell_type": "code",
   "execution_count": 120,
   "id": "78e73567-84da-4664-806b-49dbf38e0610",
   "metadata": {},
   "outputs": [
    {
     "data": {
      "text/plain": [
       "Salary\n",
       "1000     25.0\n",
       "3000     35.0\n",
       "65000    30.0\n",
       "Name: Age, dtype: float64"
      ]
     },
     "execution_count": 120,
     "metadata": {},
     "output_type": "execute_result"
    }
   ],
   "source": [
    "grouped_age_mean = df.groupby('Salary')['Age'].mean()   \n",
    "grouped_age_mean"
   ]
  },
  {
   "cell_type": "code",
   "execution_count": 50,
   "id": "e0cf60d1-90f7-4cc4-b393-5755c9b564be",
   "metadata": {},
   "outputs": [],
   "source": [
    "groupby1 = pd.DataFrame([\n",
    "    {'Name': 'Soban', 'Age': 20, 'Salary': 1000},\n",
    "    {'Name': 'Rayan', 'Age': 21, 'Salary': 4000},\n",
    "    {'Name': 'Ghafir', 'Age': 23, 'Salary': 9000},\n",
    "    \n",
    "])"
   ]
  },
  {
   "cell_type": "code",
   "execution_count": 51,
   "id": "8ee58dc0",
   "metadata": {},
   "outputs": [
    {
     "data": {
      "text/html": [
       "<div>\n",
       "<style scoped>\n",
       "    .dataframe tbody tr th:only-of-type {\n",
       "        vertical-align: middle;\n",
       "    }\n",
       "\n",
       "    .dataframe tbody tr th {\n",
       "        vertical-align: top;\n",
       "    }\n",
       "\n",
       "    .dataframe thead th {\n",
       "        text-align: right;\n",
       "    }\n",
       "</style>\n",
       "<table border=\"1\" class=\"dataframe\">\n",
       "  <thead>\n",
       "    <tr style=\"text-align: right;\">\n",
       "      <th></th>\n",
       "      <th>Name</th>\n",
       "      <th>Age</th>\n",
       "      <th>Salary</th>\n",
       "    </tr>\n",
       "  </thead>\n",
       "  <tbody>\n",
       "    <tr>\n",
       "      <th>0</th>\n",
       "      <td>Soban</td>\n",
       "      <td>20</td>\n",
       "      <td>1000</td>\n",
       "    </tr>\n",
       "    <tr>\n",
       "      <th>1</th>\n",
       "      <td>Rayan</td>\n",
       "      <td>21</td>\n",
       "      <td>4000</td>\n",
       "    </tr>\n",
       "    <tr>\n",
       "      <th>2</th>\n",
       "      <td>Ghafir</td>\n",
       "      <td>23</td>\n",
       "      <td>9000</td>\n",
       "    </tr>\n",
       "  </tbody>\n",
       "</table>\n",
       "</div>"
      ],
      "text/plain": [
       "     Name  Age  Salary\n",
       "0   Soban   20    1000\n",
       "1   Rayan   21    4000\n",
       "2  Ghafir   23    9000"
      ]
     },
     "execution_count": 51,
     "metadata": {},
     "output_type": "execute_result"
    }
   ],
   "source": [
    "groupby1"
   ]
  },
  {
   "cell_type": "code",
   "execution_count": 52,
   "id": "26b5bc41-9184-4fa9-84fa-0efb55d990ac",
   "metadata": {},
   "outputs": [
    {
     "data": {
      "text/html": [
       "<div>\n",
       "<style scoped>\n",
       "    .dataframe tbody tr th:only-of-type {\n",
       "        vertical-align: middle;\n",
       "    }\n",
       "\n",
       "    .dataframe tbody tr th {\n",
       "        vertical-align: top;\n",
       "    }\n",
       "\n",
       "    .dataframe thead th {\n",
       "        text-align: right;\n",
       "    }\n",
       "</style>\n",
       "<table border=\"1\" class=\"dataframe\">\n",
       "  <thead>\n",
       "    <tr style=\"text-align: right;\">\n",
       "      <th></th>\n",
       "      <th>Name</th>\n",
       "      <th>Age</th>\n",
       "      <th>Salary</th>\n",
       "    </tr>\n",
       "  </thead>\n",
       "  <tbody>\n",
       "    <tr>\n",
       "      <th>0</th>\n",
       "      <td>Soban</td>\n",
       "      <td>20</td>\n",
       "      <td>1000</td>\n",
       "    </tr>\n",
       "    <tr>\n",
       "      <th>1</th>\n",
       "      <td>Rayan</td>\n",
       "      <td>21</td>\n",
       "      <td>4000</td>\n",
       "    </tr>\n",
       "    <tr>\n",
       "      <th>2</th>\n",
       "      <td>Ghafir</td>\n",
       "      <td>23</td>\n",
       "      <td>9000</td>\n",
       "    </tr>\n",
       "  </tbody>\n",
       "</table>\n",
       "</div>"
      ],
      "text/plain": [
       "     Name  Age  Salary\n",
       "0   Soban   20    1000\n",
       "1   Rayan   21    4000\n",
       "2  Ghafir   23    9000"
      ]
     },
     "execution_count": 52,
     "metadata": {},
     "output_type": "execute_result"
    }
   ],
   "source": [
    "groupby1"
   ]
  },
  {
   "cell_type": "code",
   "execution_count": 127,
   "id": "25f8ce1c-a711-4038-acc1-2d8ebf335f53",
   "metadata": {},
   "outputs": [
    {
     "data": {
      "text/plain": [
       "Age\n",
       "20    1000.0\n",
       "21    4000.0\n",
       "22    6500.0\n",
       "23    9000.0\n",
       "Name: Salary, dtype: float64"
      ]
     },
     "execution_count": 127,
     "metadata": {},
     "output_type": "execute_result"
    }
   ],
   "source": [
    "grouped_salary_mean = groupby1.groupby('Age')['Salary'].mean()\n",
    "grouped_salary_mean"
   ]
  },
  {
   "cell_type": "code",
   "execution_count": 130,
   "id": "dc37cfa3-db5c-4736-a2c6-76215b1e9059",
   "metadata": {},
   "outputs": [],
   "source": [
    "aggregated = df.groupby('Age').agg({\n",
    "    'Salary': ['mean', 'sum'],\n",
    "    'Name': 'count'\n",
    "})"
   ]
  },
  {
   "cell_type": "code",
   "execution_count": 132,
   "id": "31a556c0-d6e2-4c79-bede-c99d1414d189",
   "metadata": {},
   "outputs": [
    {
     "data": {
      "text/html": [
       "<div>\n",
       "<style scoped>\n",
       "    .dataframe tbody tr th:only-of-type {\n",
       "        vertical-align: middle;\n",
       "    }\n",
       "\n",
       "    .dataframe tbody tr th {\n",
       "        vertical-align: top;\n",
       "    }\n",
       "\n",
       "    .dataframe thead tr th {\n",
       "        text-align: left;\n",
       "    }\n",
       "\n",
       "    .dataframe thead tr:last-of-type th {\n",
       "        text-align: right;\n",
       "    }\n",
       "</style>\n",
       "<table border=\"1\" class=\"dataframe\">\n",
       "  <thead>\n",
       "    <tr>\n",
       "      <th></th>\n",
       "      <th colspan=\"2\" halign=\"left\">Salary</th>\n",
       "      <th>Name</th>\n",
       "    </tr>\n",
       "    <tr>\n",
       "      <th></th>\n",
       "      <th>mean</th>\n",
       "      <th>sum</th>\n",
       "      <th>count</th>\n",
       "    </tr>\n",
       "    <tr>\n",
       "      <th>Age</th>\n",
       "      <th></th>\n",
       "      <th></th>\n",
       "      <th></th>\n",
       "    </tr>\n",
       "  </thead>\n",
       "  <tbody>\n",
       "    <tr>\n",
       "      <th>25.0</th>\n",
       "      <td>1000.0</td>\n",
       "      <td>1000</td>\n",
       "      <td>1</td>\n",
       "    </tr>\n",
       "    <tr>\n",
       "      <th>30.0</th>\n",
       "      <td>65000.0</td>\n",
       "      <td>65000</td>\n",
       "      <td>1</td>\n",
       "    </tr>\n",
       "    <tr>\n",
       "      <th>35.0</th>\n",
       "      <td>3000.0</td>\n",
       "      <td>3000</td>\n",
       "      <td>1</td>\n",
       "    </tr>\n",
       "  </tbody>\n",
       "</table>\n",
       "</div>"
      ],
      "text/plain": [
       "       Salary         Name\n",
       "         mean    sum count\n",
       "Age                       \n",
       "25.0   1000.0   1000     1\n",
       "30.0  65000.0  65000     1\n",
       "35.0   3000.0   3000     1"
      ]
     },
     "execution_count": 132,
     "metadata": {},
     "output_type": "execute_result"
    }
   ],
   "source": [
    "aggregated"
   ]
  },
  {
   "cell_type": "markdown",
   "id": "8fcd5480-f798-430c-966d-55371a26b79a",
   "metadata": {},
   "source": [
    "# Concatenation"
   ]
  },
  {
   "cell_type": "code",
   "execution_count": 53,
   "id": "6df5d476-bc14-4991-9b4c-7e65d0444135",
   "metadata": {},
   "outputs": [],
   "source": [
    "df1 = pd.DataFrame({\n",
    "    'Name': ['soban', 'ali'], \n",
    "    'Age': [20, 18],\n",
    "    'Salary': [500, 600]\n",
    "})\n",
    "df2 = pd.DataFrame({\n",
    "    'Name': ['khan', 'shah'], \n",
    "    'Age': [28, 25],\n",
    "    'Salary': [700, 800]\n",
    "})"
   ]
  },
  {
   "cell_type": "code",
   "execution_count": 54,
   "id": "b3c3859d-3ad2-4eb8-bfab-326acba846c1",
   "metadata": {},
   "outputs": [
    {
     "data": {
      "text/html": [
       "<div>\n",
       "<style scoped>\n",
       "    .dataframe tbody tr th:only-of-type {\n",
       "        vertical-align: middle;\n",
       "    }\n",
       "\n",
       "    .dataframe tbody tr th {\n",
       "        vertical-align: top;\n",
       "    }\n",
       "\n",
       "    .dataframe thead th {\n",
       "        text-align: right;\n",
       "    }\n",
       "</style>\n",
       "<table border=\"1\" class=\"dataframe\">\n",
       "  <thead>\n",
       "    <tr style=\"text-align: right;\">\n",
       "      <th></th>\n",
       "      <th>Name</th>\n",
       "      <th>Age</th>\n",
       "      <th>Salary</th>\n",
       "    </tr>\n",
       "  </thead>\n",
       "  <tbody>\n",
       "    <tr>\n",
       "      <th>0</th>\n",
       "      <td>soban</td>\n",
       "      <td>20</td>\n",
       "      <td>500</td>\n",
       "    </tr>\n",
       "    <tr>\n",
       "      <th>1</th>\n",
       "      <td>ali</td>\n",
       "      <td>18</td>\n",
       "      <td>600</td>\n",
       "    </tr>\n",
       "  </tbody>\n",
       "</table>\n",
       "</div>"
      ],
      "text/plain": [
       "    Name  Age  Salary\n",
       "0  soban   20     500\n",
       "1    ali   18     600"
      ]
     },
     "execution_count": 54,
     "metadata": {},
     "output_type": "execute_result"
    }
   ],
   "source": [
    "df1"
   ]
  },
  {
   "cell_type": "code",
   "execution_count": 55,
   "id": "8ceceaf7-8f5c-44db-b12a-735fc0938417",
   "metadata": {},
   "outputs": [
    {
     "data": {
      "text/html": [
       "<div>\n",
       "<style scoped>\n",
       "    .dataframe tbody tr th:only-of-type {\n",
       "        vertical-align: middle;\n",
       "    }\n",
       "\n",
       "    .dataframe tbody tr th {\n",
       "        vertical-align: top;\n",
       "    }\n",
       "\n",
       "    .dataframe thead th {\n",
       "        text-align: right;\n",
       "    }\n",
       "</style>\n",
       "<table border=\"1\" class=\"dataframe\">\n",
       "  <thead>\n",
       "    <tr style=\"text-align: right;\">\n",
       "      <th></th>\n",
       "      <th>Name</th>\n",
       "      <th>Age</th>\n",
       "      <th>Salary</th>\n",
       "    </tr>\n",
       "  </thead>\n",
       "  <tbody>\n",
       "    <tr>\n",
       "      <th>0</th>\n",
       "      <td>khan</td>\n",
       "      <td>28</td>\n",
       "      <td>700</td>\n",
       "    </tr>\n",
       "    <tr>\n",
       "      <th>1</th>\n",
       "      <td>shah</td>\n",
       "      <td>25</td>\n",
       "      <td>800</td>\n",
       "    </tr>\n",
       "  </tbody>\n",
       "</table>\n",
       "</div>"
      ],
      "text/plain": [
       "   Name  Age  Salary\n",
       "0  khan   28     700\n",
       "1  shah   25     800"
      ]
     },
     "execution_count": 55,
     "metadata": {},
     "output_type": "execute_result"
    }
   ],
   "source": [
    "df2"
   ]
  },
  {
   "cell_type": "code",
   "execution_count": 141,
   "id": "e80d040a-2c87-46f8-ace1-b3a3d08829b9",
   "metadata": {},
   "outputs": [],
   "source": [
    "df_concat = pd.concat([df1, df2], ignore_index=True)"
   ]
  },
  {
   "cell_type": "code",
   "execution_count": 142,
   "id": "e139cc37-7f2b-4dfb-8560-dc4372484d99",
   "metadata": {},
   "outputs": [
    {
     "data": {
      "text/html": [
       "<div>\n",
       "<style scoped>\n",
       "    .dataframe tbody tr th:only-of-type {\n",
       "        vertical-align: middle;\n",
       "    }\n",
       "\n",
       "    .dataframe tbody tr th {\n",
       "        vertical-align: top;\n",
       "    }\n",
       "\n",
       "    .dataframe thead th {\n",
       "        text-align: right;\n",
       "    }\n",
       "</style>\n",
       "<table border=\"1\" class=\"dataframe\">\n",
       "  <thead>\n",
       "    <tr style=\"text-align: right;\">\n",
       "      <th></th>\n",
       "      <th>Name</th>\n",
       "      <th>Age</th>\n",
       "      <th>Salary</th>\n",
       "    </tr>\n",
       "  </thead>\n",
       "  <tbody>\n",
       "    <tr>\n",
       "      <th>0</th>\n",
       "      <td>shazi</td>\n",
       "      <td>20</td>\n",
       "      <td>500</td>\n",
       "    </tr>\n",
       "    <tr>\n",
       "      <th>1</th>\n",
       "      <td>ali</td>\n",
       "      <td>18</td>\n",
       "      <td>600</td>\n",
       "    </tr>\n",
       "    <tr>\n",
       "      <th>2</th>\n",
       "      <td>khan</td>\n",
       "      <td>28</td>\n",
       "      <td>700</td>\n",
       "    </tr>\n",
       "    <tr>\n",
       "      <th>3</th>\n",
       "      <td>shah</td>\n",
       "      <td>25</td>\n",
       "      <td>800</td>\n",
       "    </tr>\n",
       "  </tbody>\n",
       "</table>\n",
       "</div>"
      ],
      "text/plain": [
       "    Name  Age  Salary\n",
       "0  shazi   20     500\n",
       "1    ali   18     600\n",
       "2   khan   28     700\n",
       "3   shah   25     800"
      ]
     },
     "execution_count": 142,
     "metadata": {},
     "output_type": "execute_result"
    }
   ],
   "source": [
    "df_concat"
   ]
  },
  {
   "cell_type": "code",
   "execution_count": 144,
   "id": "5fb6a79d-fc11-4bd5-8ec7-3d49f4835429",
   "metadata": {},
   "outputs": [],
   "source": [
    "df_concat_horizontal = pd.concat([df1, df2], axis=1)"
   ]
  },
  {
   "cell_type": "code",
   "execution_count": 146,
   "id": "c0b51926-121f-442e-b219-0d967dee8a5f",
   "metadata": {},
   "outputs": [
    {
     "data": {
      "text/html": [
       "<div>\n",
       "<style scoped>\n",
       "    .dataframe tbody tr th:only-of-type {\n",
       "        vertical-align: middle;\n",
       "    }\n",
       "\n",
       "    .dataframe tbody tr th {\n",
       "        vertical-align: top;\n",
       "    }\n",
       "\n",
       "    .dataframe thead th {\n",
       "        text-align: right;\n",
       "    }\n",
       "</style>\n",
       "<table border=\"1\" class=\"dataframe\">\n",
       "  <thead>\n",
       "    <tr style=\"text-align: right;\">\n",
       "      <th></th>\n",
       "      <th>Name</th>\n",
       "      <th>Age</th>\n",
       "      <th>Salary</th>\n",
       "      <th>Name</th>\n",
       "      <th>Age</th>\n",
       "      <th>Salary</th>\n",
       "    </tr>\n",
       "  </thead>\n",
       "  <tbody>\n",
       "    <tr>\n",
       "      <th>0</th>\n",
       "      <td>shazi</td>\n",
       "      <td>20</td>\n",
       "      <td>500</td>\n",
       "      <td>khan</td>\n",
       "      <td>28</td>\n",
       "      <td>700</td>\n",
       "    </tr>\n",
       "    <tr>\n",
       "      <th>1</th>\n",
       "      <td>ali</td>\n",
       "      <td>18</td>\n",
       "      <td>600</td>\n",
       "      <td>shah</td>\n",
       "      <td>25</td>\n",
       "      <td>800</td>\n",
       "    </tr>\n",
       "  </tbody>\n",
       "</table>\n",
       "</div>"
      ],
      "text/plain": [
       "    Name  Age  Salary  Name  Age  Salary\n",
       "0  shazi   20     500  khan   28     700\n",
       "1    ali   18     600  shah   25     800"
      ]
     },
     "execution_count": 146,
     "metadata": {},
     "output_type": "execute_result"
    }
   ],
   "source": [
    "df_concat_horizontal"
   ]
  },
  {
   "cell_type": "markdown",
   "id": "6b3c0a6d-6a09-49c0-900e-3f38e4e219b1",
   "metadata": {},
   "source": [
    "# MERGE"
   ]
  },
  {
   "cell_type": "code",
   "execution_count": 149,
   "id": "1c2ac37d-559d-4dab-b472-6831dca6e656",
   "metadata": {},
   "outputs": [
    {
     "data": {
      "text/html": [
       "<div>\n",
       "<style scoped>\n",
       "    .dataframe tbody tr th:only-of-type {\n",
       "        vertical-align: middle;\n",
       "    }\n",
       "\n",
       "    .dataframe tbody tr th {\n",
       "        vertical-align: top;\n",
       "    }\n",
       "\n",
       "    .dataframe thead th {\n",
       "        text-align: right;\n",
       "    }\n",
       "</style>\n",
       "<table border=\"1\" class=\"dataframe\">\n",
       "  <thead>\n",
       "    <tr style=\"text-align: right;\">\n",
       "      <th></th>\n",
       "      <th>Name</th>\n",
       "      <th>Age</th>\n",
       "    </tr>\n",
       "  </thead>\n",
       "  <tbody>\n",
       "    <tr>\n",
       "      <th>0</th>\n",
       "      <td>Ali</td>\n",
       "      <td>25</td>\n",
       "    </tr>\n",
       "    <tr>\n",
       "      <th>1</th>\n",
       "      <td>khan</td>\n",
       "      <td>30</td>\n",
       "    </tr>\n",
       "  </tbody>\n",
       "</table>\n",
       "</div>"
      ],
      "text/plain": [
       "   Name  Age\n",
       "0   Ali   25\n",
       "1  khan   30"
      ]
     },
     "execution_count": 149,
     "metadata": {},
     "output_type": "execute_result"
    }
   ],
   "source": [
    "df1 = pd.DataFrame({\n",
    "    'Name': ['Ali', 'khan'], \n",
    "    'Age': [25, 30]\n",
    "})\n",
    "df1"
   ]
  },
  {
   "cell_type": "code",
   "execution_count": 152,
   "id": "6f0385cb-0522-4720-9bb4-8b214f486c31",
   "metadata": {},
   "outputs": [
    {
     "data": {
      "text/html": [
       "<div>\n",
       "<style scoped>\n",
       "    .dataframe tbody tr th:only-of-type {\n",
       "        vertical-align: middle;\n",
       "    }\n",
       "\n",
       "    .dataframe tbody tr th {\n",
       "        vertical-align: top;\n",
       "    }\n",
       "\n",
       "    .dataframe thead th {\n",
       "        text-align: right;\n",
       "    }\n",
       "</style>\n",
       "<table border=\"1\" class=\"dataframe\">\n",
       "  <thead>\n",
       "    <tr style=\"text-align: right;\">\n",
       "      <th></th>\n",
       "      <th>Name</th>\n",
       "      <th>Salary</th>\n",
       "    </tr>\n",
       "  </thead>\n",
       "  <tbody>\n",
       "    <tr>\n",
       "      <th>0</th>\n",
       "      <td>Ali</td>\n",
       "      <td>500</td>\n",
       "    </tr>\n",
       "    <tr>\n",
       "      <th>1</th>\n",
       "      <td>khan</td>\n",
       "      <td>700</td>\n",
       "    </tr>\n",
       "  </tbody>\n",
       "</table>\n",
       "</div>"
      ],
      "text/plain": [
       "   Name  Salary\n",
       "0   Ali     500\n",
       "1  khan     700"
      ]
     },
     "execution_count": 152,
     "metadata": {},
     "output_type": "execute_result"
    }
   ],
   "source": [
    "df2 = pd.DataFrame({\n",
    "    'Name': ['Ali', 'khan'], \n",
    "    'Salary': [500, 700]\n",
    "})\n",
    "df2"
   ]
  },
  {
   "cell_type": "code",
   "execution_count": 154,
   "id": "37f0b80f-3d67-4c6c-833f-f2372de9a20b",
   "metadata": {},
   "outputs": [
    {
     "name": "stdout",
     "output_type": "stream",
     "text": [
      "   Name  Age  Salary\n",
      "0   Ali   25     500\n",
      "1  khan   30     700\n"
     ]
    }
   ],
   "source": [
    "df_merged = pd.merge(df1, df2, on='Name')\n",
    "print(df_merged)\n"
   ]
  },
  {
   "cell_type": "code",
   "execution_count": 156,
   "id": "ffcd7289-807d-4653-aa48-c5a1f86e60b8",
   "metadata": {},
   "outputs": [
    {
     "name": "stdout",
     "output_type": "stream",
     "text": [
      "   Name  Age  Salary\n",
      "0   Ali   25     500\n",
      "1  khan   30     700\n"
     ]
    }
   ],
   "source": [
    "df_merged = pd.merge(df1, df2, on='Name', how='inner')\n",
    "print(df_merged)\n",
    " "
   ]
  },
  {
   "cell_type": "code",
   "execution_count": 158,
   "id": "cd715abe-99ef-45bd-881b-a60bbae2f502",
   "metadata": {},
   "outputs": [
    {
     "name": "stdout",
     "output_type": "stream",
     "text": [
      "   Name  Age  Salary\n",
      "0   Ali   25     500\n",
      "1  khan   30     700\n"
     ]
    }
   ],
   "source": [
    "df_merged = pd.merge(df1, df2, on='Name', how='outer')\n",
    "print(df_merged)"
   ]
  },
  {
   "cell_type": "code",
   "execution_count": 160,
   "id": "0473fe3e-6392-416c-8c4e-6df3b9d60c2d",
   "metadata": {},
   "outputs": [
    {
     "name": "stdout",
     "output_type": "stream",
     "text": [
      "   Name  Age  Salary\n",
      "0   Ali   25     500\n",
      "1  khan   30     700\n"
     ]
    }
   ],
   "source": [
    "df_merged = pd.merge(df1, df2, on='Name', how='left')\n",
    "print(df_merged)"
   ]
  },
  {
   "cell_type": "code",
   "execution_count": 162,
   "id": "f50174a6-b9eb-4344-8ece-66e1c5681673",
   "metadata": {},
   "outputs": [
    {
     "name": "stdout",
     "output_type": "stream",
     "text": [
      "   Name  Age  Salary\n",
      "0   Ali   25     500\n",
      "1  khan   30     700\n"
     ]
    }
   ],
   "source": [
    "df_merged = pd.merge(df1, df2, on='Name', how='right')\n",
    "print(df_merged)\n"
   ]
  },
  {
   "cell_type": "markdown",
   "id": "7f83a7ed-e0df-45cf-bf24-9611b3efeef4",
   "metadata": {},
   "source": [
    "# Join"
   ]
  },
  {
   "cell_type": "code",
   "execution_count": 169,
   "id": "7970a53c-e2a1-44c2-b162-2cd320273dbe",
   "metadata": {},
   "outputs": [],
   "source": [
    "df1 = pd.DataFrame({\n",
    "    'Name': ['Ali', 'khan'], \n",
    "    'Age': [25, 30]\n",
    "})\n",
    "df2 = pd.DataFrame({\n",
    "    'Salary': [50000, 60000]\n",
    "}, index=['Ali', 'shazi'])\n"
   ]
  },
  {
   "cell_type": "code",
   "execution_count": 170,
   "id": "4c553c06-da77-4c5a-95ff-c5c434666263",
   "metadata": {},
   "outputs": [
    {
     "data": {
      "text/html": [
       "<div>\n",
       "<style scoped>\n",
       "    .dataframe tbody tr th:only-of-type {\n",
       "        vertical-align: middle;\n",
       "    }\n",
       "\n",
       "    .dataframe tbody tr th {\n",
       "        vertical-align: top;\n",
       "    }\n",
       "\n",
       "    .dataframe thead th {\n",
       "        text-align: right;\n",
       "    }\n",
       "</style>\n",
       "<table border=\"1\" class=\"dataframe\">\n",
       "  <thead>\n",
       "    <tr style=\"text-align: right;\">\n",
       "      <th></th>\n",
       "      <th>Name</th>\n",
       "      <th>Age</th>\n",
       "    </tr>\n",
       "  </thead>\n",
       "  <tbody>\n",
       "    <tr>\n",
       "      <th>0</th>\n",
       "      <td>Ali</td>\n",
       "      <td>25</td>\n",
       "    </tr>\n",
       "    <tr>\n",
       "      <th>1</th>\n",
       "      <td>khan</td>\n",
       "      <td>30</td>\n",
       "    </tr>\n",
       "  </tbody>\n",
       "</table>\n",
       "</div>"
      ],
      "text/plain": [
       "   Name  Age\n",
       "0   Ali   25\n",
       "1  khan   30"
      ]
     },
     "execution_count": 170,
     "metadata": {},
     "output_type": "execute_result"
    }
   ],
   "source": [
    "df1"
   ]
  },
  {
   "cell_type": "code",
   "execution_count": 171,
   "id": "1da8759d-eefb-4473-ad40-23a896545e1f",
   "metadata": {},
   "outputs": [
    {
     "data": {
      "text/html": [
       "<div>\n",
       "<style scoped>\n",
       "    .dataframe tbody tr th:only-of-type {\n",
       "        vertical-align: middle;\n",
       "    }\n",
       "\n",
       "    .dataframe tbody tr th {\n",
       "        vertical-align: top;\n",
       "    }\n",
       "\n",
       "    .dataframe thead th {\n",
       "        text-align: right;\n",
       "    }\n",
       "</style>\n",
       "<table border=\"1\" class=\"dataframe\">\n",
       "  <thead>\n",
       "    <tr style=\"text-align: right;\">\n",
       "      <th></th>\n",
       "      <th>Salary</th>\n",
       "    </tr>\n",
       "  </thead>\n",
       "  <tbody>\n",
       "    <tr>\n",
       "      <th>Ali</th>\n",
       "      <td>50000</td>\n",
       "    </tr>\n",
       "    <tr>\n",
       "      <th>shazi</th>\n",
       "      <td>60000</td>\n",
       "    </tr>\n",
       "  </tbody>\n",
       "</table>\n",
       "</div>"
      ],
      "text/plain": [
       "       Salary\n",
       "Ali     50000\n",
       "shazi   60000"
      ]
     },
     "execution_count": 171,
     "metadata": {},
     "output_type": "execute_result"
    }
   ],
   "source": [
    "df2"
   ]
  },
  {
   "cell_type": "code",
   "execution_count": 173,
   "id": "d9705ed8-e3ca-46d9-a580-9a050f69d251",
   "metadata": {},
   "outputs": [
    {
     "name": "stdout",
     "output_type": "stream",
     "text": [
      "       Name   Age   Salary\n",
      "0       Ali  25.0      NaN\n",
      "1      khan  30.0      NaN\n",
      "Ali     NaN   NaN  50000.0\n",
      "shazi   NaN   NaN  60000.0\n"
     ]
    }
   ],
   "source": [
    "df_joined = df1.join(df2, how='outer')\n",
    "print(df_joined)"
   ]
  },
  {
   "cell_type": "code",
   "execution_count": 175,
   "id": "1de1a187-0cf4-444f-ae3a-3b0a6c1805b9",
   "metadata": {},
   "outputs": [
    {
     "name": "stdout",
     "output_type": "stream",
     "text": [
      "Empty DataFrame\n",
      "Columns: [Name, Age, Salary]\n",
      "Index: []\n"
     ]
    }
   ],
   "source": [
    "df_joined = df1.join(df2, how='inner')\n",
    "print(df_joined)"
   ]
  },
  {
   "cell_type": "code",
   "execution_count": 177,
   "id": "f16f4e65-5baf-429e-a9ea-951d5f3d8c06",
   "metadata": {},
   "outputs": [
    {
     "name": "stdout",
     "output_type": "stream",
     "text": [
      "   Name  Age  Salary\n",
      "0   Ali   25     NaN\n",
      "1  khan   30     NaN\n"
     ]
    }
   ],
   "source": [
    "df_joined = df1.join(df2, how='left')\n",
    "print(df_joined)\n"
   ]
  },
  {
   "cell_type": "code",
   "execution_count": 179,
   "id": "bcde3bc8-c99a-4141-80d4-26ca1b54a832",
   "metadata": {},
   "outputs": [
    {
     "name": "stdout",
     "output_type": "stream",
     "text": [
      "      Name  Age  Salary\n",
      "Ali    NaN  NaN   50000\n",
      "shazi  NaN  NaN   60000\n"
     ]
    }
   ],
   "source": [
    "df_joined = df1.join(df2, how='right')\n",
    "print(df_joined)"
   ]
  },
  {
   "cell_type": "markdown",
   "id": "e3544be4-5d82-472c-be7e-b241dd177931",
   "metadata": {},
   "source": [
    "# Time Series Data"
   ]
  },
  {
   "cell_type": "code",
   "execution_count": 181,
   "id": "0d39bd34-09f1-4d25-86a8-fe246abe0272",
   "metadata": {},
   "outputs": [
    {
     "name": "stdout",
     "output_type": "stream",
     "text": [
      "          date\n",
      "0   2002-01-01\n",
      "1   2002-01-02\n",
      "2   2002-01-03\n",
      "3   2002-01-04\n",
      "4   2002-01-05\n",
      "..         ...\n",
      "370 2003-01-06\n",
      "371 2003-01-07\n",
      "372 2003-01-08\n",
      "373 2003-01-09\n",
      "374 2003-01-10\n",
      "\n",
      "[375 rows x 1 columns]\n"
     ]
    }
   ],
   "source": [
    "date_rng = pd.date_range(start='2002-01-01', end='2003-01-10', freq='D')\n",
    "ts_df = pd.DataFrame(date_rng, columns=['date'])\n",
    "print(ts_df)"
   ]
  },
  {
   "cell_type": "code",
   "execution_count": 183,
   "id": "f5d59569-cf8f-4a1f-94db-d8b49141d9e4",
   "metadata": {},
   "outputs": [
    {
     "name": "stdout",
     "output_type": "stream",
     "text": [
      "        Date  Value\n",
      "0 2023-01-01     10\n",
      "1 2023-01-02     20\n",
      "2 2023-01-03     30\n"
     ]
    }
   ],
   "source": [
    "import pandas as pd\n",
    "\n",
    "data = {\n",
    "    'Date': ['2023-01-01', '2023-01-02', '2023-01-03'],\n",
    "    'Value': [10, 20, 30]\n",
    "}\n",
    "df = pd.DataFrame(data)\n",
    "df['Date'] = pd.to_datetime(df['Date'])\n",
    "print(df)"
   ]
  },
  {
   "cell_type": "markdown",
   "id": "e14e1015-bc0e-4bf0-bc27-c521e07bd3cd",
   "metadata": {},
   "source": [
    "# Resampling"
   ]
  },
  {
   "cell_type": "code",
   "execution_count": 191,
   "id": "a60e812f-b01d-484e-aa89-7f354fdd5f92",
   "metadata": {},
   "outputs": [
    {
     "name": "stdout",
     "output_type": "stream",
     "text": [
      "            Value\n",
      "Date             \n",
      "2023-01-31   20.0\n",
      "2023-02-28    NaN\n",
      "2023-03-31   40.0\n"
     ]
    },
    {
     "name": "stderr",
     "output_type": "stream",
     "text": [
      "C:\\Users\\skhan\\AppData\\Local\\Temp\\ipykernel_8960\\672850494.py:12: FutureWarning: 'M' is deprecated and will be removed in a future version, please use 'ME' instead.\n",
      "  monthly_avg = df.resample('M').mean()\n"
     ]
    }
   ],
   "source": [
    "import pandas as pd\n",
    "\n",
    "data = {\n",
    "    'Date': ['2023-01-01', '2023-01-02', '2023-01-15', '2023-03-01'],\n",
    "    'Value': [10, 20, 30, 40]\n",
    "}\n",
    "df = pd.DataFrame(data)\n",
    "df['Date'] = pd.to_datetime(df['Date'])\n",
    "df.set_index('Date', inplace=True)\n",
    "\n",
    "\n",
    "monthly_avg = df.resample('M').mean()\n",
    "print(monthly_avg)\n"
   ]
  },
  {
   "cell_type": "markdown",
   "id": "4f81eab7-f248-4135-a690-15e77549c1eb",
   "metadata": {},
   "source": [
    "# Time-Base Selection"
   ]
  },
  {
   "cell_type": "code",
   "execution_count": 192,
   "id": "cf352d37-834a-4f7b-8cf7-38d33df4443a",
   "metadata": {},
   "outputs": [
    {
     "name": "stdout",
     "output_type": "stream",
     "text": [
      "            Value\n",
      "Date             \n",
      "2023-01-01     10\n",
      "2023-01-02     20\n",
      "2023-01-15     30\n"
     ]
    }
   ],
   "source": [
    "january_data = df.loc['2023-01-01':'2023-01-31']\n",
    "print(january_data)"
   ]
  },
  {
   "cell_type": "markdown",
   "id": "d445f493-f3ba-4333-a16e-487ca2100974",
   "metadata": {},
   "source": [
    "# Shifting Data\n"
   ]
  },
  {
   "cell_type": "code",
   "execution_count": 193,
   "id": "8042c77b-8ede-4830-b826-9cba957dd4b7",
   "metadata": {},
   "outputs": [
    {
     "name": "stdout",
     "output_type": "stream",
     "text": [
      "            Value  PrevDay\n",
      "Date                      \n",
      "2023-01-01     10      NaN\n",
      "2023-01-02     20     10.0\n",
      "2023-01-15     30     20.0\n",
      "2023-03-01     40     30.0\n"
     ]
    }
   ],
   "source": [
    "df['PrevDay'] = df['Value'].shift(1)\n",
    "print(df)"
   ]
  },
  {
   "cell_type": "markdown",
   "id": "3070bfa9-7f63-4d78-874c-b777d0d5b665",
   "metadata": {},
   "source": [
    "# Handling Text Data\n"
   ]
  },
  {
   "cell_type": "code",
   "execution_count": 197,
   "id": "78b37b8c-c80b-4fc2-86c3-07f481a527b8",
   "metadata": {},
   "outputs": [
    {
     "name": "stdout",
     "output_type": "stream",
     "text": [
      "    Name  Age\n",
      "0    Ali   25\n",
      "1  Baber   30\n",
      "2   khan   35\n",
      "3   shah   42\n"
     ]
    }
   ],
   "source": [
    "import pandas as pd\n",
    "\n",
    "data = {\n",
    "    'Name': ['Ali', 'Baber', 'khan', 'shah'],\n",
    "    'Age': [25, 30, 35, 42]\n",
    "}\n",
    "df = pd.DataFrame(data)\n",
    "\n",
    "print(df)"
   ]
  },
  {
   "cell_type": "markdown",
   "id": "9476b9d2-fbbc-4798-940b-2476ff445612",
   "metadata": {},
   "source": [
    "## Convert all names to lowercase"
   ]
  },
  {
   "cell_type": "code",
   "execution_count": 199,
   "id": "b6d3f1a5-5fae-451c-a613-fd6f5b5fa0db",
   "metadata": {},
   "outputs": [
    {
     "data": {
      "text/plain": [
       "0      ali\n",
       "1    baber\n",
       "2     khan\n",
       "3     shah\n",
       "Name: Name, dtype: object"
      ]
     },
     "execution_count": 199,
     "metadata": {},
     "output_type": "execute_result"
    }
   ],
   "source": [
    "ab = df['Name'].str.lower()        \n",
    "ab"
   ]
  },
  {
   "cell_type": "markdown",
   "id": "2e5d47c6-5946-4326-b6e5-1b40feb8bb8d",
   "metadata": {},
   "source": [
    "## Check if 'a' in string"
   ]
  },
  {
   "cell_type": "code",
   "execution_count": 202,
   "id": "9d47508a-0c5c-464a-802d-ff62407ba4ac",
   "metadata": {},
   "outputs": [
    {
     "data": {
      "text/plain": [
       "0    False\n",
       "1     True\n",
       "2    False\n",
       "3    False\n",
       "Name: Name, dtype: bool"
      ]
     },
     "execution_count": 202,
     "metadata": {},
     "output_type": "execute_result"
    }
   ],
   "source": [
    "df['Name'].str.contains('b')"
   ]
  },
  {
   "cell_type": "markdown",
   "id": "cc068309-28f3-4d04-b83a-a78f2b3fd70c",
   "metadata": {},
   "source": [
    "## Extracting the first letter of each name"
   ]
  },
  {
   "cell_type": "code",
   "execution_count": 204,
   "id": "24292242-7d0a-47e1-90a4-c1fd3ea21897",
   "metadata": {},
   "outputs": [
    {
     "name": "stdout",
     "output_type": "stream",
     "text": [
      "    Name  Age\n",
      "0    Ali   25\n",
      "1  Baber   30\n",
      "2   khan   35\n",
      "3  shazi   40\n"
     ]
    }
   ],
   "source": [
    "import pandas as pd\n",
    "\n",
    "# Sample DataFrame\n",
    "data = {\n",
    "    'Name': ['Ali', 'Baber', 'khan', 'shazi'],\n",
    "    'Age': [25, 30, 35, 40]\n",
    "}\n",
    "df = pd.DataFrame(data)\n",
    "print(df)\n"
   ]
  },
  {
   "cell_type": "code",
   "execution_count": 206,
   "id": "550d2b5a-8d63-4b17-ae29-c34fbb649ae0",
   "metadata": {},
   "outputs": [
    {
     "name": "stdout",
     "output_type": "stream",
     "text": [
      "    Name  Age Initial\n",
      "0    Ali   25       A\n",
      "1  Baber   30       B\n",
      "2   khan   35       k\n",
      "3  shazi   40       s\n"
     ]
    }
   ],
   "source": [
    "df['Initial'] = df['Name'].str[0]\n",
    "print(df)"
   ]
  },
  {
   "cell_type": "markdown",
   "id": "c0e6cd9c-51cc-499c-98b2-a2fb46e756a4",
   "metadata": {},
   "source": [
    "## Split the 'Name' column by space\n"
   ]
  },
  {
   "cell_type": "code",
   "execution_count": 211,
   "id": "51efe956-2410-43e5-83c4-afe60a0d0e1d",
   "metadata": {},
   "outputs": [
    {
     "name": "stdout",
     "output_type": "stream",
     "text": [
      "         Name  Age\n",
      "0    Ali khan   25\n",
      "1  shazi khan   30\n",
      "2   zaib khan   35\n",
      "3   nomi khan   40\n"
     ]
    }
   ],
   "source": [
    "import pandas as pd\n",
    "\n",
    "data = {\n",
    "    'Name': ['Ali khan', 'shazi khan', 'zaib khan', 'nomi khan'],\n",
    "    'Age': [25, 30, 35, 40]\n",
    "}\n",
    "df = pd.DataFrame(data)\n",
    "print(df)"
   ]
  },
  {
   "cell_type": "code",
   "execution_count": 210,
   "id": "fce0b150-4a77-40f8-b9fb-915077c160e6",
   "metadata": {},
   "outputs": [
    {
     "name": "stdout",
     "output_type": "stream",
     "text": [
      "         Name  Age     Name_Split\n",
      "0    Ali khan   25    [Ali, khan]\n",
      "1  shazi khan   30  [shazi, khan]\n",
      "2   zaib khan   35   [zaib, khan]\n",
      "3   nomi khan   40   [nomi, khan]\n"
     ]
    }
   ],
   "source": [
    "df['Name_Split'] = df['Name'].str.split(' ')\n",
    "print(df)"
   ]
  },
  {
   "cell_type": "markdown",
   "id": "1a2f1239-3cb5-4326-a056-70b8b67108f9",
   "metadata": {},
   "source": [
    "# Replace 'Alice' with 'Alicia' in the 'Name' column\n"
   ]
  },
  {
   "cell_type": "code",
   "execution_count": 214,
   "id": "bb0aca2b-e6c7-4115-adf9-9bb59ddef5ea",
   "metadata": {},
   "outputs": [
    {
     "name": "stdout",
     "output_type": "stream",
     "text": [
      "         Name  Age\n",
      "0    Ali khan   25\n",
      "1  shazi khan   30\n",
      "2   zaib khan   35\n",
      "3   nomi khan   40\n"
     ]
    }
   ],
   "source": [
    "import pandas as pd\n",
    "\n",
    "data = {\n",
    "    'Name': ['Ali khan', 'shazi khan', 'zaib khan', 'nomi khan'],\n",
    "    'Age': [25, 30, 35, 40]\n",
    "}\n",
    "df = pd.DataFrame(data)\n",
    "print(df)"
   ]
  },
  {
   "cell_type": "code",
   "execution_count": 216,
   "id": "b699324e-fa8a-4a16-8469-f585dcc017d2",
   "metadata": {},
   "outputs": [
    {
     "name": "stdout",
     "output_type": "stream",
     "text": [
      "         Name  Age\n",
      "0    Ali khan   25\n",
      "1  shazi khan   30\n",
      "2   zaib khan   35\n",
      "3   nomi khan   40\n"
     ]
    }
   ],
   "source": [
    "df['Name'] = df['Name'].str.replace('Alice', 'Alicia')\n",
    "print(df)"
   ]
  },
  {
   "cell_type": "markdown",
   "id": "342cf51a-a9db-4664-acbb-167f927f82ec",
   "metadata": {},
   "source": [
    "## Pivot Tables & Crosstabs\n"
   ]
  },
  {
   "cell_type": "markdown",
   "id": "f0d1b50f-64df-4782-a999-b302ee8339fe",
   "metadata": {},
   "source": [
    "### Create a pivot table: mean income by AgeGroup and Gender\n"
   ]
  },
  {
   "cell_type": "code",
   "execution_count": 218,
   "id": "fb84fd31-e718-4583-ad08-bc7cbf2244bc",
   "metadata": {},
   "outputs": [
    {
     "name": "stdout",
     "output_type": "stream",
     "text": [
      "  AgeGroup  Gender  Income\n",
      "0    20-25    Male    4000\n",
      "1    25-30  Female    4200\n",
      "2   30-340    Male    5000\n",
      "3    40-50  Female    5200\n",
      "4    50-60  Female    4300\n"
     ]
    }
   ],
   "source": [
    "import pandas as pd\n",
    "\n",
    "data = {\n",
    "    'AgeGroup': ['20-25', '25-30', '30-340', '40-50', '50-60'],\n",
    "    'Gender': ['Male', 'Female', 'Male', 'Female', 'Female'],\n",
    "    'Income': [4000, 4200, 5000, 5200, 4300]\n",
    "}\n",
    "df = pd.DataFrame(data)\n",
    "print(df)"
   ]
  },
  {
   "cell_type": "code",
   "execution_count": 221,
   "id": "58717ee1-dff2-4f95-8898-329342b64dc5",
   "metadata": {},
   "outputs": [
    {
     "name": "stdout",
     "output_type": "stream",
     "text": [
      "Gender    Female    Male\n",
      "AgeGroup                \n",
      "20-25        NaN  4000.0\n",
      "25-30     4200.0     NaN\n",
      "30-340       NaN  5000.0\n",
      "40-50     5200.0     NaN\n",
      "50-60     4300.0     NaN\n"
     ]
    }
   ],
   "source": [
    "\n",
    "pivot = pd.pivot_table(df, values='Income', index='AgeGroup', columns='Gender', aggfunc='mean')\n",
    "print(pivot)\n"
   ]
  },
  {
   "cell_type": "markdown",
   "id": "3e6104fd-7389-424e-bd77-c729956e3315",
   "metadata": {},
   "source": [
    "# Compute frequency table (crosstab) of AgeGroup vs Gender"
   ]
  },
  {
   "cell_type": "code",
   "execution_count": 222,
   "id": "354b01bc-0b3c-44a5-9696-c21fc74a4e5e",
   "metadata": {},
   "outputs": [
    {
     "name": "stdout",
     "output_type": "stream",
     "text": [
      "  AgeGroup  Gender  Income\n",
      "0    20-25    Male    4000\n",
      "1    25-30  Female    4200\n",
      "2   30-340    Male    5000\n",
      "3    40-50  Female    5200\n",
      "4    50-60  Female    4300\n"
     ]
    }
   ],
   "source": [
    "import pandas as pd\n",
    "\n",
    "data = {\n",
    "    'AgeGroup': ['20-25', '25-30', '30-340', '40-50', '50-60'],\n",
    "    'Gender': ['Male', 'Female', 'Male', 'Female', 'Female'],\n",
    "    'Income': [4000, 4200, 5000, 5200, 4300]\n",
    "}\n",
    "df = pd.DataFrame(data)\n",
    "print(df)"
   ]
  },
  {
   "cell_type": "code",
   "execution_count": 224,
   "id": "e5c6596e-3a1b-4435-89b6-8e58c183cb63",
   "metadata": {},
   "outputs": [
    {
     "name": "stdout",
     "output_type": "stream",
     "text": [
      "Gender    Female  Male\n",
      "AgeGroup              \n",
      "20-25          0     1\n",
      "25-30          1     0\n",
      "30-340         0     1\n",
      "40-50          1     0\n",
      "50-60          1     0\n"
     ]
    }
   ],
   "source": [
    "crosstab = pd.crosstab(df['AgeGroup'], df['Gender'])\n",
    "print(crosstab)\n"
   ]
  },
  {
   "cell_type": "markdown",
   "id": "1102c232-c14f-48fd-8605-48926ec65837",
   "metadata": {},
   "source": [
    "# Creating CSV File"
   ]
  },
  {
   "cell_type": "code",
   "execution_count": null,
   "id": "f8524c06-2a4a-4928-897f-ae89ca1b8ddc",
   "metadata": {},
   "outputs": [],
   "source": []
  },
  {
   "cell_type": "code",
   "execution_count": 229,
   "id": "7c804001-5b98-4f21-85b5-8a80029f9cbd",
   "metadata": {},
   "outputs": [
    {
     "data": {
      "text/html": [
       "<div>\n",
       "<style scoped>\n",
       "    .dataframe tbody tr th:only-of-type {\n",
       "        vertical-align: middle;\n",
       "    }\n",
       "\n",
       "    .dataframe tbody tr th {\n",
       "        vertical-align: top;\n",
       "    }\n",
       "\n",
       "    .dataframe thead th {\n",
       "        text-align: right;\n",
       "    }\n",
       "</style>\n",
       "<table border=\"1\" class=\"dataframe\">\n",
       "  <thead>\n",
       "    <tr style=\"text-align: right;\">\n",
       "      <th></th>\n",
       "      <th>Name</th>\n",
       "      <th>Age</th>\n",
       "      <th>Salary</th>\n",
       "      <th>Gender</th>\n",
       "      <th>Date</th>\n",
       "      <th>Department</th>\n",
       "      <th>Has_Passed</th>\n",
       "      <th>Score</th>\n",
       "    </tr>\n",
       "  </thead>\n",
       "  <tbody>\n",
       "    <tr>\n",
       "      <th>0</th>\n",
       "      <td>SAMI KHAN</td>\n",
       "      <td>25.0</td>\n",
       "      <td>5000</td>\n",
       "      <td>male</td>\n",
       "      <td>2023-01-01</td>\n",
       "      <td>HR</td>\n",
       "      <td>True</td>\n",
       "      <td>88.5</td>\n",
       "    </tr>\n",
       "    <tr>\n",
       "      <th>1</th>\n",
       "      <td>KASHIF KHAN</td>\n",
       "      <td>30.0</td>\n",
       "      <td>6000</td>\n",
       "      <td>Male</td>\n",
       "      <td>2023-01-02</td>\n",
       "      <td>IT</td>\n",
       "      <td>False</td>\n",
       "      <td>92.0</td>\n",
       "    </tr>\n",
       "    <tr>\n",
       "      <th>2</th>\n",
       "      <td>SHAHZAIB KHAN</td>\n",
       "      <td>35.0</td>\n",
       "      <td>7000</td>\n",
       "      <td>Male</td>\n",
       "      <td>2023-01-15</td>\n",
       "      <td>IT</td>\n",
       "      <td>True</td>\n",
       "      <td>NaN</td>\n",
       "    </tr>\n",
       "    <tr>\n",
       "      <th>3</th>\n",
       "      <td>UMAR KHAN</td>\n",
       "      <td>40.0</td>\n",
       "      <td>8000</td>\n",
       "      <td>Male</td>\n",
       "      <td>2023-02-01</td>\n",
       "      <td>Finance</td>\n",
       "      <td>True</td>\n",
       "      <td>85.0</td>\n",
       "    </tr>\n",
       "    <tr>\n",
       "      <th>4</th>\n",
       "      <td>NOUMAN KHAN</td>\n",
       "      <td>25.0</td>\n",
       "      <td>5000</td>\n",
       "      <td>male</td>\n",
       "      <td>2023-01-01</td>\n",
       "      <td>HR</td>\n",
       "      <td>True</td>\n",
       "      <td>88.5</td>\n",
       "    </tr>\n",
       "    <tr>\n",
       "      <th>5</th>\n",
       "      <td>None</td>\n",
       "      <td>NaN</td>\n",
       "      <td>9000</td>\n",
       "      <td>male</td>\n",
       "      <td>2023-03-01</td>\n",
       "      <td>Finance</td>\n",
       "      <td>False</td>\n",
       "      <td>79.0</td>\n",
       "    </tr>\n",
       "  </tbody>\n",
       "</table>\n",
       "</div>"
      ],
      "text/plain": [
       "             Name   Age  Salary Gender        Date Department  Has_Passed  \\\n",
       "0       SAMI KHAN  25.0    5000   male  2023-01-01         HR        True   \n",
       "1     KASHIF KHAN  30.0    6000   Male  2023-01-02         IT       False   \n",
       "2  SHAHZAIB KHAN   35.0    7000   Male  2023-01-15         IT        True   \n",
       "3       UMAR KHAN  40.0    8000   Male  2023-02-01    Finance        True   \n",
       "4     NOUMAN KHAN  25.0    5000   male  2023-01-01         HR        True   \n",
       "5            None   NaN    9000   male  2023-03-01    Finance       False   \n",
       "\n",
       "   Score  \n",
       "0   88.5  \n",
       "1   92.0  \n",
       "2    NaN  \n",
       "3   85.0  \n",
       "4   88.5  \n",
       "5   79.0  "
      ]
     },
     "execution_count": 229,
     "metadata": {},
     "output_type": "execute_result"
    }
   ],
   "source": [
    "import pandas as pd\n",
    "import numpy as np\n",
    "\n",
    "data = {\n",
    "    'Name': ['SAMI KHAN', 'KASHIF KHAN', 'SHAHZAIB KHAN ', 'UMAR KHAN', 'NOUMAN KHAN', None ],\n",
    "    'Age': [25, 30, 35, 40, 25, np.nan],\n",
    "    'Salary': [5000, 6000, 7000, 8000, 5000, 9000],\n",
    "    'Gender': ['male', 'Male', 'Male', 'Male', 'male', 'male'],\n",
    "    'Date': ['2023-01-01', '2023-01-02', '2023-01-15', '2023-02-01', '2023-01-01', '2023-03-01'],\n",
    "    'Department': ['HR', 'IT', 'IT', 'Finance', 'HR', 'Finance'],\n",
    "    'Has_Passed': [True, False, True, True, True, False],\n",
    "    'Score': [88.5, 92.0, np.nan, 85.0, 88.5, 79.0]\n",
    "}\n",
    "\n",
    "df = pd.DataFrame(data)\n",
    "df\n"
   ]
  },
  {
   "cell_type": "code",
   "execution_count": 231,
   "id": "dea65d88-3fcb-47a5-8464-8f7f57697f14",
   "metadata": {},
   "outputs": [
    {
     "name": "stdout",
     "output_type": "stream",
     "text": [
      "             Name   Age  Salary Gender       Date Department  Has_Passed  \\\n",
      "0       SAMI KHAN  25.0    5000   male 2023-01-01         HR        True   \n",
      "1     KASHIF KHAN  30.0    6000   Male 2023-01-02         IT       False   \n",
      "2  SHAHZAIB KHAN   35.0    7000   Male 2023-01-15         IT        True   \n",
      "3       UMAR KHAN  40.0    8000   Male 2023-02-01    Finance        True   \n",
      "4     NOUMAN KHAN  25.0    5000   male 2023-01-01         HR        True   \n",
      "5            None   NaN    9000   male 2023-03-01    Finance       False   \n",
      "\n",
      "   Score  \n",
      "0   88.5  \n",
      "1   92.0  \n",
      "2    NaN  \n",
      "3   85.0  \n",
      "4   88.5  \n",
      "5   79.0  \n"
     ]
    }
   ],
   "source": [
    "df['Date'] = pd.to_datetime(df['Date'])\n",
    "print(df)"
   ]
  },
  {
   "cell_type": "markdown",
   "id": "93b6997d-48f0-4c72-98ea-fc944fbe46fb",
   "metadata": {},
   "source": [
    "# Convert 'Gender' column to category type\n"
   ]
  },
  {
   "cell_type": "code",
   "execution_count": 233,
   "id": "aadd1916-702c-4325-830d-f3e47161cecb",
   "metadata": {},
   "outputs": [
    {
     "name": "stdout",
     "output_type": "stream",
     "text": [
      "   Gender AgeGroup  Income\n",
      "0    Male    20-29    4000\n",
      "1  Female    20-29    4200\n",
      "2    Male    30-39    5000\n",
      "3  Female    30-39    5200\n",
      "4  Female    20-29    4300\n",
      "5    Male    40-49    6000\n"
     ]
    }
   ],
   "source": [
    "import pandas as pd\n",
    "\n",
    "data = {\n",
    "    'Gender': ['Male', 'Female', 'Male', 'Female', 'Female', 'Male'],\n",
    "    'AgeGroup': ['20-29', '20-29', '30-39', '30-39', '20-29', '40-49'],\n",
    "    'Income': [4000, 4200, 5000, 5200, 4300, 6000]\n",
    "}\n",
    "df = pd.DataFrame(data)\n",
    "print(df)"
   ]
  },
  {
   "cell_type": "code",
   "execution_count": 235,
   "id": "6a331cee-3f45-4dfa-8d88-0d90bd78c6c5",
   "metadata": {},
   "outputs": [
    {
     "name": "stdout",
     "output_type": "stream",
     "text": [
      "Gender      category\n",
      "AgeGroup      object\n",
      "Income         int64\n",
      "dtype: object\n"
     ]
    }
   ],
   "source": [
    "df['Gender'] = df['Gender'].astype('category')\n",
    "print(df.dtypes)"
   ]
  },
  {
   "cell_type": "code",
   "execution_count": 237,
   "id": "0fe208dc-9cd8-417b-b24c-e8c391a5af69",
   "metadata": {},
   "outputs": [
    {
     "name": "stdout",
     "output_type": "stream",
     "text": [
      "Index(['Female', 'Male'], dtype='object')\n",
      "0    1\n",
      "1    0\n",
      "2    1\n",
      "3    0\n",
      "4    0\n",
      "5    1\n",
      "dtype: int8\n"
     ]
    }
   ],
   "source": [
    "print(df['Gender'].cat.categories)\n",
    "print(df['Gender'].cat.codes)"
   ]
  },
  {
   "cell_type": "markdown",
   "id": "e4a36718-f0ef-4fd1-9760-a821301c8600",
   "metadata": {},
   "source": [
    "# convert 'Income' to thousands and create a new column 'Income_K'\n"
   ]
  },
  {
   "cell_type": "code",
   "execution_count": 239,
   "id": "a5a977fb-f95f-4b7c-ad89-278ee73ba879",
   "metadata": {},
   "outputs": [
    {
     "name": "stdout",
     "output_type": "stream",
     "text": [
      "   Gender AgeGroup  Income  Income_K\n",
      "0    Male    20-29    4000       4.0\n",
      "1  Female    20-29    4200       4.2\n",
      "2    Male    30-39    5000       5.0\n",
      "3  Female    30-39    5200       5.2\n",
      "4  Female    20-29    4300       4.3\n",
      "5    Male    40-49    6000       6.0\n"
     ]
    }
   ],
   "source": [
    "df['Income_K'] = df['Income'].apply(lambda x: x / 1000)\n",
    "print(df)"
   ]
  },
  {
   "cell_type": "markdown",
   "id": "2211d227-2408-4c5a-94fa-7f513efbb82b",
   "metadata": {},
   "source": [
    "# map() to create a new column 'AgeGroup' based on 'Age'"
   ]
  },
  {
   "cell_type": "code",
   "execution_count": 241,
   "id": "b66019ac-1240-474a-a059-faf0708bde26",
   "metadata": {},
   "outputs": [
    {
     "name": "stdout",
     "output_type": "stream",
     "text": [
      "   Age\n",
      "0   15\n",
      "1   22\n",
      "2   17\n",
      "3   35\n",
      "4   12\n",
      "5   28\n"
     ]
    }
   ],
   "source": [
    "import pandas as pd\n",
    "\n",
    "data = {\n",
    "    'Age': [15, 22, 17, 35, 12, 28]\n",
    "}\n",
    "df = pd.DataFrame(data)\n",
    "print(df)"
   ]
  },
  {
   "cell_type": "code",
   "execution_count": 243,
   "id": "3aa7266e-bc87-4028-9361-3c554cd8913b",
   "metadata": {},
   "outputs": [
    {
     "name": "stdout",
     "output_type": "stream",
     "text": [
      "   Age AgeGroup\n",
      "0   15    Minor\n",
      "1   22    Adult\n",
      "2   17    Minor\n",
      "3   35    Adult\n",
      "4   12    Minor\n",
      "5   28    Adult\n"
     ]
    }
   ],
   "source": [
    "df['AgeGroup'] = df['Age'].map(lambda x: 'Adult' if x >= 18 else 'Minor')\n",
    "print(df)"
   ]
  },
  {
   "cell_type": "markdown",
   "id": "641ad037-0dde-4a55-8d8b-5975b5231cf7",
   "metadata": {},
   "source": [
    "# Use .query() for fast filtering\n"
   ]
  },
  {
   "cell_type": "code",
   "execution_count": 245,
   "id": "5b5ecfdf-18fd-4b8b-abe8-562556bd9f8b",
   "metadata": {},
   "outputs": [
    {
     "name": "stdout",
     "output_type": "stream",
     "text": [
      "    Name  Age  Income\n",
      "0    Ali   25   48000\n",
      "1  Baber   35   60000\n",
      "2   khan   40   70000\n",
      "3  shazi   28   52000\n",
      "4   shah   25   30000\n",
      "5   rana   35   60000\n"
     ]
    }
   ],
   "source": [
    "import pandas as pd\n",
    "\n",
    "data = {\n",
    "    'Name': ['Ali', 'Baber', 'khan', 'shazi', 'shah', 'rana'],\n",
    "    'Age': [25, 35, 40, 28, 25, 35],\n",
    "    'Income': [48000, 60000, 70000, 52000, 30000, 60000]\n",
    "}\n",
    "df = pd.DataFrame(data)\n",
    "print(df)\n"
   ]
  },
  {
   "cell_type": "code",
   "execution_count": 247,
   "id": "9a64754e-5bbb-42df-9ab2-2b13ca65cdff",
   "metadata": {},
   "outputs": [
    {
     "name": "stdout",
     "output_type": "stream",
     "text": [
      "    Name  Age  Income\n",
      "1  Baber   35   60000\n",
      "2   khan   40   70000\n",
      "5   rana   35   60000\n"
     ]
    }
   ],
   "source": [
    "result = df.query('Age > 30 & Income > 50000')\n",
    "print(result)\n"
   ]
  },
  {
   "cell_type": "code",
   "execution_count": null,
   "id": "190f09f1-940d-43c4-becf-c99e93782238",
   "metadata": {},
   "outputs": [],
   "source": []
  }
 ],
 "metadata": {
  "kernelspec": {
   "display_name": "Python 3",
   "language": "python",
   "name": "python3"
  },
  "language_info": {
   "codemirror_mode": {
    "name": "ipython",
    "version": 3
   },
   "file_extension": ".py",
   "mimetype": "text/x-python",
   "name": "python",
   "nbconvert_exporter": "python",
   "pygments_lexer": "ipython3",
   "version": "3.13.5"
  }
 },
 "nbformat": 4,
 "nbformat_minor": 5
}
